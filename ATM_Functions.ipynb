{
 "cells": [
  {
   "cell_type": "code",
   "execution_count": 14,
   "id": "c07d66cb-7c1c-4f2d-bf64-0d6f0b7f90f7",
   "metadata": {},
   "outputs": [
    {
     "name": "stdin",
     "output_type": "stream",
     "text": [
      "Enter your pin :  1234\n"
     ]
    },
    {
     "name": "stdout",
     "output_type": "stream",
     "text": [
      "1. Deposit \n",
      "2. Withdarw \n",
      "3. Bal Enquiry \n",
      "4. View Transaction History\n",
      "5. Change Pin\n",
      "0. EXIT \n"
     ]
    },
    {
     "name": "stdin",
     "output_type": "stream",
     "text": [
      "Choose your option 1\n",
      "Enter deposit amount :  15000\n"
     ]
    },
    {
     "name": "stdout",
     "output_type": "stream",
     "text": [
      "Depoit Successsfull\n",
      "Avaialble bal is ₹ 25000\n"
     ]
    },
    {
     "name": "stdin",
     "output_type": "stream",
     "text": [
      "1.Continue  \n",
      " 0. EXIT  4\n"
     ]
    },
    {
     "name": "stdout",
     "output_type": "stream",
     "text": [
      "Thank you, Visit again \n"
     ]
    }
   ],
   "source": [
    "class Bank:\n",
    "    pin=1234\n",
    "    pincount=1\n",
    "    acbal=10000\n",
    "    wcount=0\n",
    "    transactions=[]\n",
    "    def viewOptions(self):\n",
    "        print(\"1. Deposit \")\n",
    "        print(\"2. Withdarw \")\n",
    "        print(\"3. Bal Enquiry \")\n",
    "        print(\"4. View Transaction History\")\n",
    "        print(\"5. Change Pin\")\n",
    "        print(\"0. EXIT \")\n",
    "        opt=int(input(\"Choose your option\"))\n",
    "        if opt==1:\n",
    "            obj.deposit()\n",
    "            obj.confirm()\n",
    "        elif opt==2:\n",
    "            if self.wcount<3:\n",
    "                obj.withdraw()\n",
    "                obj.confirm()\n",
    "            else:\n",
    "                print(\"Withdraw limit is over, please try after 24 hrs\")\n",
    "        elif opt==3:\n",
    "            self.checkBalance()\n",
    "            self.confirm()\n",
    "        elif opt==4:\n",
    "            self.history()\n",
    "            self.confirm()\n",
    "        elif opt==5:\n",
    "            self.ChangePin()\n",
    "            self.confirm()\n",
    "        else:\n",
    "            if(opt==0):\n",
    "                print(\"Thankyou Visit Again\")\n",
    "            else:\n",
    "                print(\"Invalid option Enter again\")\n",
    "                self.viewOptions()\n",
    "    def checkBalance(self):\n",
    "        print(\"Available Account is ₹\",self.acbal)\n",
    "\n",
    "    def history(self):\n",
    "        print(\"=========Transaction History===============\")\n",
    "        if not self.transactions :\n",
    "            print(\"No Transactions Found\")\n",
    "        else:\n",
    "            for i in self.transactions:\n",
    "                print(i)\n",
    "            \n",
    "        \n",
    "\n",
    "    \n",
    "    def notescount(self,amount):\n",
    "        if amount>=500:\n",
    "            five=amount//500\n",
    "            print(\"500 rupees notes are:\",five)\n",
    "            amount=amount-(five*500)\n",
    "        if amount>=200:\n",
    "            two=amount//200\n",
    "            print(\"200 rupees notes are:\",two)\n",
    "            amount=amount-(two*200)\n",
    "        if amount>=100:\n",
    "            one=amount//100\n",
    "            print(\"100 rupees notes are:\",one)\n",
    "\n",
    "        \n",
    "    \n",
    "    def validate(self):\n",
    "        pin=int(input(\"Enter your pin : \"))\n",
    "        if self.pin==pin:\n",
    "           obj.viewOptions()\n",
    "        else:\n",
    "            self.pincount+=1\n",
    "            if self.pincount<=3:\n",
    "                print(\"Invalid pin, please try again\")\n",
    "                obj.validate()\n",
    "            else:\n",
    "                print(\"Your card is blocked for the day\")\n",
    "    def deposit(self):\n",
    "        amt=int(input(\"Enter deposit amount : \"))\n",
    "        if amt%100==0:\n",
    "            if amt<=50000:\n",
    "                self.acbal+=amt\n",
    "                self.transactions.append(f\"Deposit: ₹{amt}\")\n",
    "                print(\"Depoit Successsfull\")\n",
    "                print(\"Avaialble bal is ₹\",self.acbal)\n",
    "            else:\n",
    "                print(\"Transaction limit is ₹20000 only\")\n",
    "                \n",
    "        else:\n",
    "            print(\"Please enter multiples of 100 \")\n",
    "        \n",
    "    def confirm(self):\n",
    "        opt=int(input(\"1.Continue  \\n 0. EXIT \"))\n",
    "        if opt==1:\n",
    "                obj.viewOptions()\n",
    "        else:\n",
    "            print(\"Thank you, Visit again \")\n",
    "    def withdraw(self):\n",
    "        amt=int(input(\"Enter withdraw amount : \"))\n",
    "        if amt%100==0:\n",
    "            if amt<=self.acbal:\n",
    "                if amt<=20000:\n",
    "                    self.notescount(amt)\n",
    "                    self.acbal-=amt\n",
    "                    self.wcount+=1\n",
    "                    self.transactions.append(f\"Withdraw: ₹{amt}\")\n",
    "                    print(\"Withdraw Successsfull\")\n",
    "                    print(\"Avalilable bal is ₹\",self.acbal)\n",
    "                        \n",
    "                else:\n",
    "                    print(\"Transaction limit is ₹20000 only\")\n",
    "            else:\n",
    "                print(\"insuffient fund \")\n",
    "        else:\n",
    "            print(\"Please enter multiples of 100 only\")\n",
    "\n",
    "    def ChangePin(self):\n",
    "        new_pin = int(input(\"Enter new PIN: \"))\n",
    "        confirm_pin = int(input(\"Confirm new PIN: \"))\n",
    "        if new_pin == confirm_pin:\n",
    "            self.pin = new_pin\n",
    "            print(\"PIN changed successfully!\")\n",
    "        else:\n",
    "            print(\"PINs do not match. Please try again.\")\n",
    "            self.ChangePin()\n",
    "            \n",
    "            \n",
    "obj=Bank()\n",
    "obj.validate()"
   ]
  },
  {
   "cell_type": "code",
   "execution_count": null,
   "id": "f913531d-a481-4678-bc5f-67291255f9f2",
   "metadata": {},
   "outputs": [],
   "source": []
  }
 ],
 "metadata": {
  "kernelspec": {
   "display_name": "Python 3 (ipykernel)",
   "language": "python",
   "name": "python3"
  },
  "language_info": {
   "codemirror_mode": {
    "name": "ipython",
    "version": 3
   },
   "file_extension": ".py",
   "mimetype": "text/x-python",
   "name": "python",
   "nbconvert_exporter": "python",
   "pygments_lexer": "ipython3",
   "version": "3.13.2"
  }
 },
 "nbformat": 4,
 "nbformat_minor": 5
}
