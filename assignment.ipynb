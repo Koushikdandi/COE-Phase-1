{
 "cells": [
  {
   "cell_type": "markdown",
   "id": "1a15ae99-6f12-4398-bcdf-7b769e5d4f2a",
   "metadata": {},
   "source": [
    "#Nested if problems"
   ]
  },
  {
   "cell_type": "code",
   "execution_count": null,
   "id": "50e61ee8-fa64-4d42-843d-12acfce988ec",
   "metadata": {},
   "outputs": [],
   "source": [
    "#1)Determine if a student is eligible for a scholarship. First, check if their GPA is above 8.0. \n",
    "#If yes, then check if their attendance is more than 85%. If both conditions are satisfied, award the scholarship."
   ]
  },
  {
   "cell_type": "code",
   "execution_count": 3,
   "id": "d71dce63-d36b-4c0f-8a48-c52c289436c2",
   "metadata": {},
   "outputs": [
    {
     "name": "stdin",
     "output_type": "stream",
     "text": [
      "Please Enter Your GPA  8.9\n",
      "Please Enter your Attendance Percentage 90\n"
     ]
    },
    {
     "name": "stdout",
     "output_type": "stream",
     "text": [
      "Congratulations you are eligible for the Scholarship\n"
     ]
    }
   ],
   "source": [
    "gpa=float(input(\"Please Enter Your GPA \"))\n",
    "atd=float(input(\"Please Enter your Attendance Percentage\"))\n",
    "if(gpa>8.0):\n",
    "    if(atd>85):\n",
    "        print(\"Congratulations you are eligible for the Scholarship\")\n",
    "    else:\n",
    "        print(\"Sorry your attendance is less than 85%  you are not eligible for the Scholarship\")\n",
    "else:\n",
    "    print(\"Sorry your GPA is less than 8.0  you are not eligible for the Scholarship\")\n",
    "    "
   ]
  },
  {
   "cell_type": "code",
   "execution_count": null,
   "id": "e97f8cc7-9306-4dd8-bf93-84c0609fd706",
   "metadata": {},
   "outputs": [],
   "source": [
    "#2)Check if a user has a valid coupon. If yes, then check if the order amount is more than ₹1000. \n",
    "#If both are true, apply a 20% discount; otherwise, give a 10% discount.\"\"\""
   ]
  },
  {
   "cell_type": "code",
   "execution_count": 5,
   "id": "e5b93aca-6f78-4332-9249-392ec426e7f6",
   "metadata": {},
   "outputs": [
    {
     "name": "stdin",
     "output_type": "stream",
     "text": [
      "Plase Enter Your Order Amount 10001\n",
      "Enter your Coupon Code discount20\n"
     ]
    },
    {
     "name": "stdout",
     "output_type": "stream",
     "text": [
      "valid coupon\n",
      "Hurrey!! you got 20% discount\n",
      "Amount after discount : 8000.8\n"
     ]
    }
   ],
   "source": [
    "valid_coupon=\"discount20\"\n",
    "amount=float(input(\"Plase Enter Your Order Amount\"))\n",
    "user_coupon=input(\"Enter your Coupon Code\")\n",
    "if(valid_coupon==user_coupon):\n",
    "    print(\"valid coupon\")\n",
    "    if(amount>1000):\n",
    "        print(\"Hurrey!! you got 20% discount\")\n",
    "        print(\"Amount after discount :\",amount*0.8)\n",
    "    else:\n",
    "        print(\"Your Cart Value is less than 1000\\n You got only 10% discount\")\n",
    "        print(\"Amount after discount :\",amount*0.9)\n",
    "else:\n",
    "    print(\"Please Enter Valid Coupon\")\n"
   ]
  },
  {
   "cell_type": "markdown",
   "id": "2f0ea55a-5ff9-4da0-9caa-be3d96a2ebc9",
   "metadata": {},
   "source": [
    "#Elif problems"
   ]
  },
  {
   "cell_type": "code",
   "execution_count": null,
   "id": "e838828f-aa3a-4dba-af50-070f192b6da2",
   "metadata": {},
   "outputs": [],
   "source": [
    "#Calculate BMI and categorize it as \"Underweight\", \"Normal\", \"Overweight\", \n",
    "#or \"Obese\" using elif based on standard BMI ranges.\"\"\""
   ]
  },
  {
   "cell_type": "code",
   "execution_count": 8,
   "id": "5415457e-93c9-4886-ab5b-d6db42f6627b",
   "metadata": {},
   "outputs": [
    {
     "name": "stdout",
     "output_type": "stream",
     "text": [
      "WELCOME TO BMI CALCULATOR\n"
     ]
    },
    {
     "name": "stdin",
     "output_type": "stream",
     "text": [
      "Enter Your Weight in (Kg's) 85\n",
      "Enter Your Height in (meters) 1.75\n"
     ]
    },
    {
     "name": "stdout",
     "output_type": "stream",
     "text": [
      "Your BMI is: 27.76\n",
      "Your Body Mass Index indicates Overweight.\n"
     ]
    }
   ],
   "source": [
    "print(\"WELCOME TO BMI CALCULATOR\")\n",
    "\n",
    "wgt=float(input(\"Enter Your Weight in (Kg's)\"))\n",
    "ht=float(input(\"Enter Your Height in (meters)\"))\n",
    "if wgt==0:\n",
    "    print(\"Weight cannot be zero. Please enter a valid height.\")\n",
    "         \n",
    "elif ht == 0:\n",
    "    print(\"Height cannot be zero. Please enter a valid height.\")\n",
    "else:\n",
    "    bmi=wgt/(ht**2)\n",
    "    print(f\"Your BMI is: {bmi:.2f}\")\n",
    "\n",
    "\n",
    "if bmi < 18.5:\n",
    "    print(\"Your Body Mass Index indicates Underweight.\")\n",
    "elif 18.5 <= bmi < 24.9:\n",
    "    print(\"Your Body Mass Index is Normal.\")\n",
    "elif 25 <= bmi < 29.9:\n",
    "    print(\"Your Body Mass Index indicates Overweight.\")\n",
    "else:\n",
    "    print(\"Your Body Mass Index indicates Obesity.\")\n"
   ]
  },
  {
   "cell_type": "code",
   "execution_count": null,
   "id": "a141dabc-6c31-40e2-87a6-8fc839bc25d3",
   "metadata": {},
   "outputs": [],
   "source": [
    "#2)Take temperature input and print weather advice:\n",
    "#Above 35°C → \"Too hot, stay indoors!\"\n",
    "#25°C to 35°C → \"Warm weather, stay hydrated.\"\n",
    "#15°C to 24°C → \"Cool weather, wear a jacket.\"\n",
    "#Below 15°C → \"Cold, wear warm clothes.\" \"\"\""
   ]
  },
  {
   "cell_type": "code",
   "execution_count": 13,
   "id": "ae2c79e5-9685-4284-af70-f7bb3213c529",
   "metadata": {},
   "outputs": [
    {
     "name": "stdin",
     "output_type": "stream",
     "text": [
      "Enter the Temparature in Celcius 26\n"
     ]
    },
    {
     "name": "stdout",
     "output_type": "stream",
     "text": [
      "Warm weather, stay hydrated.\n"
     ]
    }
   ],
   "source": [
    "temp=float(input(\"Enter the Temparature in Celcius\"))\n",
    "if(temp>35):\n",
    "    print(\"Too hot, stay indoors!\")\n",
    "elif(25<=temp<=35):\n",
    "    print(\"Warm weather, stay hydrated.\")\n",
    "elif(15<=temp<=24):\n",
    "    print(\"Cool weather, wear a jacket.\")\n",
    "else:\n",
    "    print(\"Cold, wear warm clothes.\")\n",
    "\n"
   ]
  },
  {
   "cell_type": "code",
   "execution_count": null,
   "id": "162f2dc3-dd33-4cb5-88ad-56869c739911",
   "metadata": {},
   "outputs": [],
   "source": [
    "#3)Based on input color (\"Red\", \"Yellow\", \"Green\"), print what the driver should do using elif.\"\"\""
   ]
  },
  {
   "cell_type": "code",
   "execution_count": 14,
   "id": "1b3dc26a-34d7-4ed7-8f05-addeb3ad7bf1",
   "metadata": {},
   "outputs": [
    {
     "name": "stdin",
     "output_type": "stream",
     "text": [
      "Enter traffic light color:  RED\n"
     ]
    },
    {
     "name": "stdout",
     "output_type": "stream",
     "text": [
      "Stop\n"
     ]
    }
   ],
   "source": [
    "color = input(\"Enter traffic light color: \").lower()\n",
    "if color == \"red\":\n",
    "    print(\"Stop\")\n",
    "elif color == \"yellow\":\n",
    "    print(\"Slow Down\")\n",
    "elif color == \"green\":\n",
    "    print(\"Go\")\n",
    "else:\n",
    "    print(\"Invalid color. Please enter Red, Yellow, or Green.\")\n"
   ]
  },
  {
   "cell_type": "markdown",
   "id": "4f0b3030-2a66-43a8-a323-2a8480144adb",
   "metadata": {},
   "source": [
    "#while Loop\n"
   ]
  },
  {
   "cell_type": "code",
   "execution_count": 20,
   "id": "ea354a57-28cb-43c6-8383-38cd0dfb5eb1",
   "metadata": {},
   "outputs": [
    {
     "name": "stdin",
     "output_type": "stream",
     "text": [
      "Enter Pin:  1245\n"
     ]
    },
    {
     "name": "stdout",
     "output_type": "stream",
     "text": [
      "Pin is Invalid!!,Enter Valid Pin\n"
     ]
    },
    {
     "name": "stdin",
     "output_type": "stream",
     "text": [
      "Enter Pin:  345\n"
     ]
    },
    {
     "name": "stdout",
     "output_type": "stream",
     "text": [
      "Pin is Invalid!!,Enter Valid Pin\n"
     ]
    },
    {
     "name": "stdin",
     "output_type": "stream",
     "text": [
      "Enter Pin:  4245\n"
     ]
    },
    {
     "name": "stdout",
     "output_type": "stream",
     "text": [
      "Account Locked\n"
     ]
    }
   ],
   "source": [
    "vpin=1234\n",
    "attempts=1\n",
    "while(attempts<=3):\n",
    "    Pin=int(input(\"Enter Pin: \"))\n",
    "    if(vpin==Pin):\n",
    "        print(\"Access Granted\")\n",
    "        break\n",
    "    else:\n",
    "        attempts+=1\n",
    "        if(attempts<=3):\n",
    "            print(\"Pin is Invalid!!,Enter Valid Pin\")\n",
    "        else:\n",
    "            print(\"Account Locked\")"
   ]
  },
  {
   "cell_type": "code",
   "execution_count": 21,
   "id": "d07adff5-f80f-4076-b3a8-ef48c88fd633",
   "metadata": {},
   "outputs": [
    {
     "name": "stdout",
     "output_type": "stream",
     "text": [
      "\n",
      "--- Bank Menu ---\n",
      "1. Check Balance\n",
      "2. Deposit Money\n",
      "3. Withdraw Money\n",
      "4. Exit\n"
     ]
    },
    {
     "name": "stdin",
     "output_type": "stream",
     "text": [
      "Enter your choice (1-4):  4\n"
     ]
    },
    {
     "name": "stdout",
     "output_type": "stream",
     "text": [
      "Thank you for banking with us. Goodbye!\n"
     ]
    }
   ],
   "source": [
    "balance=1000 \n",
    "while True:\n",
    "    print(\"\\n--- Bank Menu ---\")\n",
    "    print(\"1. Check Balance\")\n",
    "    print(\"2. Deposit Money\")\n",
    "    print(\"3. Withdraw Money\")\n",
    "    print(\"4. Exit\")\n",
    "    choice = input(\"Enter your choice (1-4): \")\n",
    "\n",
    "    if choice == \"1\":\n",
    "        print(f\"Your current balance is ₹{balance}\")\n",
    "\n",
    "    elif choice == \"2\":\n",
    "        amount = float(input(\"Enter amount to deposit: ₹\"))\n",
    "        if amount > 0:\n",
    "            balance += amount\n",
    "            print(f\"₹{amount} deposited successfully.\")\n",
    "        else:\n",
    "            print(\"Invalid deposit amount.\")\n",
    "\n",
    "    elif choice == \"3\":\n",
    "        amount = float(input(\"Enter amount to withdraw: ₹\"))\n",
    "        if amount > balance:\n",
    "            print(\"Insufficient balance.\")\n",
    "        elif amount <= 0:\n",
    "            print(\"Invalid withdrawal amount.\")\n",
    "        else:\n",
    "            balance -= amount\n",
    "            print(f\"₹{amount} withdrawn successfully.\")\n",
    "\n",
    "    elif choice == \"4\":\n",
    "        print(\"Thank you for banking with us. Goodbye!\")\n",
    "        break\n",
    "\n",
    "    else:\n",
    "        print(\"Invalid choice. Please enter a number from 1 to 4.\")\n"
   ]
  },
  {
   "cell_type": "code",
   "execution_count": 24,
   "id": "178d1ad2-d588-475f-8bea-85f3d1ca7fe4",
   "metadata": {},
   "outputs": [
    {
     "name": "stdout",
     "output_type": "stream",
     "text": [
      "Welcome to the Number Guessing Game!\n",
      "I'm thinking of a number between 1 and 100. Can you guess it?\n"
     ]
    },
    {
     "name": "stdin",
     "output_type": "stream",
     "text": [
      "Enter your guess:  34\n"
     ]
    },
    {
     "name": "stdout",
     "output_type": "stream",
     "text": [
      "Too high. Try again!\n"
     ]
    },
    {
     "name": "stdin",
     "output_type": "stream",
     "text": [
      "Enter your guess:  10\n"
     ]
    },
    {
     "name": "stdout",
     "output_type": "stream",
     "text": [
      "Too low. Try again!\n"
     ]
    },
    {
     "name": "stdin",
     "output_type": "stream",
     "text": [
      "Enter your guess:  20\n"
     ]
    },
    {
     "name": "stdout",
     "output_type": "stream",
     "text": [
      "Too low. Try again!\n"
     ]
    },
    {
     "name": "stdin",
     "output_type": "stream",
     "text": [
      "Enter your guess:  24\n"
     ]
    },
    {
     "name": "stdout",
     "output_type": "stream",
     "text": [
      "Too low. Try again!\n"
     ]
    },
    {
     "name": "stdin",
     "output_type": "stream",
     "text": [
      "Enter your guess:  30\n"
     ]
    },
    {
     "name": "stdout",
     "output_type": "stream",
     "text": [
      "Too low. Try again!\n"
     ]
    },
    {
     "name": "stdin",
     "output_type": "stream",
     "text": [
      "Enter your guess:  32\n"
     ]
    },
    {
     "name": "stdout",
     "output_type": "stream",
     "text": [
      "Too low. Try again!\n"
     ]
    },
    {
     "name": "stdin",
     "output_type": "stream",
     "text": [
      "Enter your guess:  33\n"
     ]
    },
    {
     "name": "stdout",
     "output_type": "stream",
     "text": [
      "Congratulations! You guessed it right. The number was 33.\n"
     ]
    }
   ],
   "source": [
    "import random\n",
    "secret_number = random.randint(1, 100)\n",
    "print(\"Welcome to the Number Guessing Game!\")\n",
    "print(\"I'm thinking of a number between 1 and 100. Can you guess it?\")\n",
    "while True:\n",
    "    try:\n",
    "        guess = int(input(\"Enter your guess: \"))\n",
    "        if guess < 1 or guess > 100:\n",
    "            print(\"Please enter a number between 1 and 100.\")\n",
    "        elif guess < secret_number:\n",
    "            print(\"Too low. Try again!\")\n",
    "        elif guess > secret_number:\n",
    "            print(\"Too high. Try again!\")\n",
    "        else:\n",
    "            print(f\"Congratulations! You guessed it right. The number was {secret_number}.\")\n",
    "            break\n",
    "    except ValueError:\n",
    "        print(\"Invalid input! Please enter a valid integer.\")\n"
   ]
  },
  {
   "cell_type": "markdown",
   "id": "0c6b0852-249d-44e5-bc4d-cd9a9c1eaf42",
   "metadata": {},
   "source": [
    "#for loop"
   ]
  },
  {
   "cell_type": "code",
   "execution_count": null,
   "id": "e8dd3db9-b0fa-4e69-8165-cbeec354ceef",
   "metadata": {},
   "outputs": [],
   "source": [
    "# 1)prime number  between 1 to n"
   ]
  },
  {
   "cell_type": "code",
   "execution_count": 34,
   "id": "bcb76eb0-f885-455b-a774-d6a160b73401",
   "metadata": {},
   "outputs": [
    {
     "name": "stdin",
     "output_type": "stream",
     "text": [
      "Enter any number:  99\n"
     ]
    },
    {
     "name": "stdout",
     "output_type": "stream",
     "text": [
      "Prime Numbers between 1 and 99:\n",
      "2 is prime\n",
      "3 is prime\n",
      "5 is prime\n",
      "7 is prime\n",
      "11 is prime\n",
      "13 is prime\n",
      "17 is prime\n",
      "19 is prime\n",
      "23 is prime\n",
      "29 is prime\n",
      "31 is prime\n",
      "37 is prime\n",
      "41 is prime\n",
      "43 is prime\n",
      "47 is prime\n",
      "53 is prime\n",
      "59 is prime\n",
      "61 is prime\n",
      "67 is prime\n",
      "71 is prime\n",
      "73 is prime\n",
      "79 is prime\n",
      "83 is prime\n",
      "89 is prime\n",
      "97 is prime\n"
     ]
    }
   ],
   "source": [
    "n = int(input(\"Enter any number: \"))\n",
    "print(f\"Prime Numbers between 1 and {n}:\")\n",
    "\n",
    "for i in range(2, n + 1):\n",
    "    count = 0\n",
    "    for j in range(1, i + 1):\n",
    "        if i % j == 0:\n",
    "            count += 1\n",
    "    if count == 2:\n",
    "        print(i, \"is prime\")\n"
   ]
  },
  {
   "cell_type": "code",
   "execution_count": null,
   "id": "1a288783-a580-49ff-8e98-1c74bf731b8e",
   "metadata": {},
   "outputs": [],
   "source": [
    "#Accept marks of 5 students using a list and print the average, highest, and lowest marks using for loop."
   ]
  },
  {
   "cell_type": "code",
   "execution_count": 35,
   "id": "a9b80f3e-2f9a-47d2-8239-48c5dc170f1f",
   "metadata": {},
   "outputs": [
    {
     "name": "stdin",
     "output_type": "stream",
     "text": [
      "Enter marks for student 1:  45\n",
      "Enter marks for student 2:  7\n",
      "Enter marks for student 3:  98\n",
      "Enter marks for student 4:  76\n",
      "Enter marks for student 5:  90\n"
     ]
    },
    {
     "name": "stdout",
     "output_type": "stream",
     "text": [
      "\n",
      "--- Result Summary ---\n",
      "Average Marks: 63.2\n",
      "Highest Marks: 98.0\n",
      "Lowest Marks: 7.0\n"
     ]
    }
   ],
   "source": [
    "marks = []\n",
    "for i in range(5):\n",
    "    mark = float(input(f\"Enter marks for student {i+1}: \"))\n",
    "    marks.append(mark)\n",
    "total = 0\n",
    "highest = marks[0]\n",
    "lowest = marks[0]\n",
    "for mark in marks:\n",
    "    total += mark\n",
    "    if mark > highest:\n",
    "        highest = mark\n",
    "    if mark < lowest:\n",
    "        lowest = mark\n",
    "average = total / 5\n",
    "print(\"\\n--- Result Summary ---\")\n",
    "print(f\"Average Marks: {average}\")\n",
    "print(f\"Highest Marks: {highest}\")\n",
    "print(f\"Lowest Marks: {lowest}\")\n"
   ]
  },
  {
   "cell_type": "code",
   "execution_count": null,
   "id": "6d0eec06-46c0-4752-9676-230820a23a80",
   "metadata": {},
   "outputs": [],
   "source": [
    "#Take a paragraph and a word as input. Count how many times the word appears using a for loop."
   ]
  },
  {
   "cell_type": "code",
   "execution_count": 40,
   "id": "5689a473-ac2c-4ad9-a16e-ddfe44d9f5da",
   "metadata": {},
   "outputs": [
    {
     "name": "stdin",
     "output_type": "stream",
     "text": [
      "Enter paragraph koushik is a good boy.he is very good boy\n",
      "Enter word to be count good\n"
     ]
    },
    {
     "name": "stdout",
     "output_type": "stream",
     "text": [
      "The word good appears 2 in the para\n"
     ]
    }
   ],
   "source": [
    "para=input(\"Enter paragraph\")\n",
    "word_count=input(\"Enter word to be count\")\n",
    "words=para.split()\n",
    "count=0\n",
    "for i in words:\n",
    "    if(i.lower()==word_count.lower()):\n",
    "        count+=1\n",
    "print(f\"The word {word_count} appears {count} in the para\")\n",
    "    "
   ]
  },
  {
   "cell_type": "markdown",
   "id": "182fd303-9c40-44ab-bf1f-a65d501dd922",
   "metadata": {},
   "source": [
    "#tuple"
   ]
  },
  {
   "cell_type": "code",
   "execution_count": null,
   "id": "5b617eb9-11e4-4f97-b1ad-7d8e5d92dfd5",
   "metadata": {},
   "outputs": [],
   "source": [
    "#Create a tuple to store student data (name, roll number, branch). Write a program to display the branch if the roll number is input by the user."
   ]
  },
  {
   "cell_type": "code",
   "execution_count": 41,
   "id": "e1857207-0f0b-4460-bd31-f1cdff26e34f",
   "metadata": {},
   "outputs": [
    {
     "name": "stdin",
     "output_type": "stream",
     "text": [
      "Enter the roll number to find the branch:  101\n"
     ]
    },
    {
     "name": "stdout",
     "output_type": "stream",
     "text": [
      "The branch for roll number 101 is: Computer Science\n"
     ]
    }
   ],
   "source": [
    "student_data = (\"Koushik\", 101, \"Computer Science\")\n",
    "input_roll_number = int(input(\"Enter the roll number to find the branch: \"))\n",
    "if input_roll_number == student_data[1]:\n",
    "    print(f\"The branch for roll number {input_roll_number} is: {student_data[2]}\")\n",
    "else:\n",
    "    print(\"Roll number not found.\")\n"
   ]
  },
  {
   "cell_type": "markdown",
   "id": "2c504042-7d29-4ccb-a23b-5467b3cd6743",
   "metadata": {},
   "source": [
    "#String"
   ]
  },
  {
   "cell_type": "code",
   "execution_count": null,
   "id": "c330767d-4be2-4d0d-b97a-9641f3889e96",
   "metadata": {},
   "outputs": [],
   "source": [
    "#Input a string and count the number of vowels and consonants separately."
   ]
  },
  {
   "cell_type": "code",
   "execution_count": 49,
   "id": "6628c0d3-9cb2-4c2a-8270-ffc11a4562cd",
   "metadata": {},
   "outputs": [
    {
     "name": "stdin",
     "output_type": "stream",
     "text": [
      "Enter a string:  aeiou are vowels\n"
     ]
    },
    {
     "name": "stdout",
     "output_type": "stream",
     "text": [
      "Number of vowels: 9\n",
      "Number of consonants: 5\n"
     ]
    }
   ],
   "source": [
    "text = input(\"Enter a string: \")\n",
    "vowel_count = 0\n",
    "consonant_count = 0\n",
    "vowels = \"aeiouAEIOU\"\n",
    "for char in text:\n",
    "    if char.isalpha():  \n",
    "        if char in vowels:\n",
    "            vowel_count += 1\n",
    "        else:\n",
    "            consonant_count += 1\n",
    "print(f\"Number of vowels: {vowel_count}\")\n",
    "print(f\"Number of consonants: {consonant_count}\")\n"
   ]
  },
  {
   "cell_type": "markdown",
   "id": "87c1c7bb-b735-4d69-bc62-308cf00b7ea7",
   "metadata": {},
   "source": [
    "#list"
   ]
  },
  {
   "cell_type": "code",
   "execution_count": null,
   "id": "6526d8f9-9de7-4305-9a03-c1ac039beee6",
   "metadata": {},
   "outputs": [],
   "source": [
    "#Given a list of numbers, remove all duplicates and display the unique list in the same order."
   ]
  },
  {
   "cell_type": "code",
   "execution_count": 50,
   "id": "1c3cb6b8-d323-47fd-86f5-520f262d610f",
   "metadata": {},
   "outputs": [
    {
     "name": "stdin",
     "output_type": "stream",
     "text": [
      "Enter numbers separated by spaces:  2 3 4 5 7 7 3 2 1 5 \n"
     ]
    },
    {
     "name": "stdout",
     "output_type": "stream",
     "text": [
      "List after removing duplicates: [2, 3, 4, 5, 7, 1]\n"
     ]
    }
   ],
   "source": [
    "numbers = list(map(int, input(\"Enter numbers separated by spaces: \").split()))\n",
    "unique_numbers = []\n",
    "for num in numbers:\n",
    "    if num not in unique_numbers:\n",
    "        unique_numbers.append(num)\n",
    "print(\"List after removing duplicates:\", unique_numbers)\n"
   ]
  },
  {
   "cell_type": "code",
   "execution_count": null,
   "id": "24deb754-03c7-43dd-bee1-87c5755402d4",
   "metadata": {},
   "outputs": [],
   "source": []
  }
 ],
 "metadata": {
  "kernelspec": {
   "display_name": "Python 3 (ipykernel)",
   "language": "python",
   "name": "python3"
  },
  "language_info": {
   "codemirror_mode": {
    "name": "ipython",
    "version": 3
   },
   "file_extension": ".py",
   "mimetype": "text/x-python",
   "name": "python",
   "nbconvert_exporter": "python",
   "pygments_lexer": "ipython3",
   "version": "3.13.2"
  }
 },
 "nbformat": 4,
 "nbformat_minor": 5
}
