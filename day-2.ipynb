{
 "cells": [
  {
   "cell_type": "code",
   "execution_count": 11,
   "id": "11cccb7f-781c-4e43-8d7b-62f4356dafe8",
   "metadata": {},
   "outputs": [
    {
     "name": "stdout",
     "output_type": "stream",
     "text": [
      "90.7\n",
      "90\n"
     ]
    }
   ],
   "source": [
    "b=90.7\n",
    "a=int(b)\n",
    "print(b)\n",
    "print(a)"
   ]
  },
  {
   "cell_type": "code",
   "execution_count": 6,
   "id": "ccd67469-e5f0-4b58-928d-d0e3e1777c30",
   "metadata": {},
   "outputs": [
    {
     "name": "stdout",
     "output_type": "stream",
     "text": [
      "43\n",
      "43\n"
     ]
    }
   ],
   "source": [
    "s='43'\n",
    "i=int(s)\n",
    "print(s)\n",
    "print(i)"
   ]
  },
  {
   "cell_type": "code",
   "execution_count": 7,
   "id": "7fe450d8-75f7-4cea-bbf9-8935f05c50e6",
   "metadata": {},
   "outputs": [
    {
     "name": "stdout",
     "output_type": "stream",
     "text": [
      "43\n",
      "43.0\n"
     ]
    }
   ],
   "source": [
    "s='43'\n",
    "i=float(s)\n",
    "print(s)\n",
    "print(i)"
   ]
  },
  {
   "cell_type": "code",
   "execution_count": 9,
   "id": "ac091699-789b-490a-969c-c4df2e3ae256",
   "metadata": {},
   "outputs": [
    {
     "name": "stdout",
     "output_type": "stream",
     "text": [
      "43\n",
      "65.5\n"
     ]
    }
   ],
   "source": [
    "a=43\n",
    "b=65.5\n",
    "s=str(a)\n",
    "d=str(b)\n",
    "print(s)\n",
    "print(d)"
   ]
  },
  {
   "cell_type": "code",
   "execution_count": 12,
   "id": "ab4ccf1d-279d-4bac-81f8-f0b613017fcd",
   "metadata": {},
   "outputs": [],
   "source": [
    "# Why we need type Converstion ?\n",
    "#string -> int,float\n",
    "# so in user interface every input will be taken in string after taking the input to perform some operations we convert the type string to int,float\n",
    "#int -> string\n",
    "# after performing the calculations and to give the out the UI supports only string so we convert it into string"
   ]
  },
  {
   "cell_type": "code",
   "execution_count": 15,
   "id": "2132b0da-0cd3-4720-b93a-c88764c50981",
   "metadata": {},
   "outputs": [
    {
     "name": "stdin",
     "output_type": "stream",
     "text": [
      "Enter your basic salary 31000\n"
     ]
    },
    {
     "name": "stdout",
     "output_type": "stream",
     "text": [
      "Your Gross Salary is: 84940.0\n"
     ]
    }
   ],
   "source": [
    "BS=int(input(\"Enter your basic salary\"))\n",
    "if BS<20000:\n",
    "    HRA=(BS*76)/100\n",
    "    DA=(BS*78)/100\n",
    "elif 20000<=BS<30000:\n",
    "    HRA=(BS*79)/100\n",
    "    DA=(BS*82)/ 100\n",
    "else:\n",
    "    HRA=(BS*85)/100 \n",
    "    DA=(BS*89)/100    \n",
    "\n",
    "GS = BS+DA+HRA\n",
    "print(\"Your Gross Salary is:\", GS)\n",
    "       "
   ]
  },
  {
   "cell_type": "code",
   "execution_count": 24,
   "id": "8aaf5fbb-576a-45cf-bdef-d9bf134692ba",
   "metadata": {},
   "outputs": [
    {
     "name": "stdin",
     "output_type": "stream",
     "text": [
      "Enter your salary: 1000000\n"
     ]
    },
    {
     "name": "stdout",
     "output_type": "stream",
     "text": [
      "-85000\n"
     ]
    }
   ],
   "source": [
    "sal=int(input(\"Enter your salary:\"))\n",
    "slot1=(200000*5)//100\n",
    "slot2=(300000*10)//100\n",
    "slot3=(500000*15)//100\n",
    "slot4=(500000*20)//100\n",
    "\n",
    "if(500000<sal<1000000):\n",
    "    if(500000<sal<700000):\n",
    "        TDS=((sal-500000)*5)//100\n",
    "    else:\n",
    "        TDS=slot1\n",
    "    if(700000<sal<1000000):\n",
    "        TDS=slot1+((sal-700000)*10)//100\n",
    "    else:\n",
    "        TDS=slot1+slot2\n",
    "\n",
    "\n",
    "        \n",
    "elif(1000000<sal<20000000):\n",
    "    if(1000000<sal<1500000):\n",
    "        TDS=slot1+slot2+((sal-1000000)*15)//100\n",
    "    else:\n",
    "        TDS=slot1+slot2+slot3\n",
    "    if(1500000<sal<2000000):\n",
    "        TDS=slot1+slot2+slot3+((sal-1500000)*20)//100\n",
    "    else:\n",
    "        TDS=slot1+slot2+slot3+slot4\n",
    "else:\n",
    "    TDS=slot1+slot2+slot3+slot4+((sal-2000000)*30)//100\n",
    "print(TDS)\n",
    "\n",
    "        "
   ]
  },
  {
   "cell_type": "code",
   "execution_count": null,
   "id": "025f17e6-cf35-4175-ab39-852384173017",
   "metadata": {},
   "outputs": [],
   "source": []
  }
 ],
 "metadata": {
  "kernelspec": {
   "display_name": "Python 3 (ipykernel)",
   "language": "python",
   "name": "python3"
  },
  "language_info": {
   "codemirror_mode": {
    "name": "ipython",
    "version": 3
   },
   "file_extension": ".py",
   "mimetype": "text/x-python",
   "name": "python",
   "nbconvert_exporter": "python",
   "pygments_lexer": "ipython3",
   "version": "3.13.2"
  }
 },
 "nbformat": 4,
 "nbformat_minor": 5
}
