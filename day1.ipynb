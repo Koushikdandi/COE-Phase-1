{
 "cells": [
  {
   "cell_type": "code",
   "execution_count": 8,
   "id": "53be1f10-bbd2-4a6c-b14b-9215c54d8ac5",
   "metadata": {},
   "outputs": [
    {
     "name": "stdin",
     "output_type": "stream",
     "text": [
      "Enter the internal marks 90\n",
      "Enter the external marks 90\n",
      "Enter the project marks 90\n"
     ]
    },
    {
     "name": "stdout",
     "output_type": "stream",
     "text": [
      "90.0\n",
      "C\n"
     ]
    }
   ],
   "source": [
    "i=int (input(\"Enter the internal marks\"))\n",
    "e=int (input(\"Enter the external marks\"))\n",
    "p=int (input(\"Enter the project marks\"))\n",
    "if(i>=50 and e>=50 and p>=50):\n",
    "    TS=(i*10/100)+(e*20/100)+(p*70/100)\n",
    "    print(TS)\n",
    "    if(TS>90):\n",
    "        print(\"A\")\n",
    "    elif(TS>70):\n",
    "        print(\"B\")\n",
    "    else:\n",
    "        print(\"C\")\n",
    "else:\n",
    "    if(i!=50):\n",
    "        print(f\"You got failed in internal and score is {i}\")\n",
    "    elif(e!=50):\n",
    "        print(f\"You got failed in external and score is {e}\")\n",
    "    else:\n",
    "        print(f\"You got failed in project and score is {p}\")"
   ]
  },
  {
   "cell_type": "code",
   "execution_count": 17,
   "id": "a7b823ec-51e8-4a58-94c9-fe01f646c498",
   "metadata": {},
   "outputs": [
    {
     "name": "stdin",
     "output_type": "stream",
     "text": [
      "enter prev bill 5400\n",
      "enter pres bill 6500\n"
     ]
    },
    {
     "name": "stdout",
     "output_type": "stream",
     "text": [
      "Bill before adding gst is 2350.0\n",
      "Bill after adding gst is 2773.0\n"
     ]
    }
   ],
   "source": [
    "prev=int(input(\"enter prev units\"))\n",
    "pres=int(input(\"enter pres units\"))\n",
    "units=pres-prev\n",
    "if(units>=50):\n",
    "    TB=50*0.50\n",
    "    units-=50\n",
    "else:\n",
    "    TB=units*0.50\n",
    "    units=0\n",
    "if(units>=100):\n",
    "    TB=TB+100*0.75\n",
    "    units-=100\n",
    "else:\n",
    "    TB=TB+units*0.75\n",
    "    units=0\n",
    "if(units>=100):\n",
    "    TB=TB+100*1.25\n",
    "    units-=100\n",
    "else:\n",
    "    TB=TB+units*1.25\n",
    "    units=0\n",
    "if(units>0):\n",
    "    TB=TB+units*2.50\n",
    "print(f\"Bill before adding gst is {TB}\")\n",
    "gst=TB*18/100\n",
    "TB=TB+gst\n",
    "print(f\"Bill after adding gst is {TB}\")\n",
    "            "
   ]
  },
  {
   "cell_type": "code",
   "execution_count": 18,
   "id": "f7c3977a-107d-4098-9c60-b543525e4c23",
   "metadata": {},
   "outputs": [
    {
     "name": "stdin",
     "output_type": "stream",
     "text": [
      "Enter Prev units 5400\n",
      "Enter Pres units 6500\n"
     ]
    },
    {
     "name": "stdout",
     "output_type": "stream",
     "text": [
      "2773.0\n"
     ]
    }
   ],
   "source": [
    "prev=int(input(\"Enter Prev units\"))\n",
    "pres=int(input(\"Enter Pres units\"))\n",
    " \n",
    "units=pres-prev   \n",
    "bill=0\n",
    "if units<=50:\n",
    "    bill=units*0.50\n",
    "elif units<=150:\n",
    "    bill= 50*0.50+(units-50)*0.75\n",
    "elif units<=250:\n",
    "    bill=50*0.50+(100*0.75)+(units-150)*1.25\n",
    "else:\n",
    "    bill=50*0.50+(100*0.75)+(100*1.25)+(units-250)*2.50\n",
    " \n",
    " \n",
    "bill=bill+(bill*18)/100\n",
    "print(bill)"
   ]
  },
  {
   "cell_type": "code",
   "execution_count": null,
   "id": "d4408bf9-9872-433b-98db-a6391e453b37",
   "metadata": {},
   "outputs": [],
   "source": [
    "1. Food – Smart Restaurant Billing with Meal Plans\n",
    "Scenario:\n",
    "A restaurant offers multiple meal plans (Veg, Non-Veg, Combo) and discounts on festivals.\n",
    " \n",
    "Requirements:\n",
    " \n",
    "Take user input: meal type, quantity, is today a festival (yes/no)\n",
    " \n",
    "Pricing:\n",
    " \n",
    "Veg: ₹150\n",
    " \n",
    "Non-Veg: ₹200\n",
    " \n",
    "Combo: ₹300\n",
    " \n",
    "Festival day → 10% discount\n",
    " \n",
    "If total bill > ₹1000 → add free dessert\n",
    " \n",
    "Add 5% GST on total"
   ]
  },
  {
   "cell_type": "code",
   "execution_count": 21,
   "id": "8309ac47-8107-4e5d-b535-f619bd1f9467",
   "metadata": {},
   "outputs": [
    {
     "name": "stdin",
     "output_type": "stream",
     "text": [
      "Enter your Meal Type 1)Veg 2)Non-veg 3)combo 3\n",
      "Enter Quantity 6\n",
      "Is today a festival 1)yes 2)no 1\n"
     ]
    },
    {
     "name": "stdout",
     "output_type": "stream",
     "text": [
      "you got 10% discout\n",
      "you got free desert\n",
      "Your bill amount is :  1701.0\n"
     ]
    }
   ],
   "source": [
    "meal=int(input(\"Enter your Meal Type 1)Veg 2)Non-veg 3)combo\"))\n",
    "quantity=int(input(\"Enter Quantity\"))\n",
    "fest=int(input(\"Is today a festival 1)yes 2)no\"))\n",
    "if(meal==1):\n",
    "    tb=150*quantity\n",
    "elif(meal==2):\n",
    "    tb=200*quantity\n",
    "elif(meal==3):\n",
    "    tb=300*quantity\n",
    "else:\n",
    "    print(\"you entered wrong item\")\n",
    "if(fest==1):\n",
    "    tb=tb-(tb*10)/100\n",
    "    print(\"you got 10% discout\")\n",
    "if(tb>1000):\n",
    "    print(\"you got free desert\")\n",
    "tb=tb+(tb*5)/100\n",
    "print(\"Your bill amount is : \",tb)\n"
   ]
  },
  {
   "cell_type": "code",
   "execution_count": 23,
   "id": "f0474414-7e34-4a53-8381-25afe169701c",
   "metadata": {},
   "outputs": [
    {
     "name": "stdin",
     "output_type": "stream",
     "text": [
      "Enter your name koushik\n",
      "Enter your 10th percentage 85\n",
      "Enter your 12th percentage 85\n",
      "Enter your UG percentage 85\n",
      "Enter your family income 2\n"
     ]
    },
    {
     "name": "stdout",
     "output_type": "stream",
     "text": [
      "Full Scholarship\n"
     ]
    }
   ],
   "source": [
    "name=input(\"Enter your name\")\n",
    "ten=int(input(\"Enter your 10th percentage\"))\n",
    "inter=int(input(\"Enter your 12th percentage\"))\n",
    "UG=int(input(\"Enter your UG percentage\"))\n",
    "FI=int(input(\"Enter your family income\"))\n",
    "if(ten>=85 and inter>=85 and UG>=85 and FI <3):\n",
    "    print(\"Full Scholarship\")\n",
    "elif(UG>=70 and FI<5):\n",
    "    print(\"partial Scholarship\")\n",
    "else:\n",
    "    print(\"not eligible\")\n",
    "\n",
    "\n",
    "\n",
    "          "
   ]
  },
  {
   "cell_type": "code",
   "execution_count": null,
   "id": "7fb5dced-311a-4d13-941c-c994fc1fb541",
   "metadata": {},
   "outputs": [],
   "source": []
  }
 ],
 "metadata": {
  "kernelspec": {
   "display_name": "Python 3 (ipykernel)",
   "language": "python",
   "name": "python3"
  },
  "language_info": {
   "codemirror_mode": {
    "name": "ipython",
    "version": 3
   },
   "file_extension": ".py",
   "mimetype": "text/x-python",
   "name": "python",
   "nbconvert_exporter": "python",
   "pygments_lexer": "ipython3",
   "version": "3.13.2"
  }
 },
 "nbformat": 4,
 "nbformat_minor": 5
}
