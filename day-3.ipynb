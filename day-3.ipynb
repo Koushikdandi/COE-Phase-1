{
 "cells": [
  {
   "cell_type": "code",
   "execution_count": 2,
   "id": "93396c32-819e-4e0c-9d2e-5a1e5e50ae9b",
   "metadata": {},
   "outputs": [
    {
     "name": "stdin",
     "output_type": "stream",
     "text": [
      "Enter the number 738781\n"
     ]
    },
    {
     "name": "stdout",
     "output_type": "stream",
     "text": [
      "even count = 2\n",
      "odd count = 4\n"
     ]
    }
   ],
   "source": [
    "num=int(input(\"Enter the number\"))\n",
    "even=0\n",
    "odd=0\n",
    "while(num!=0):\n",
    "    rem=num%10\n",
    "    if(rem%2==0):\n",
    "        even=even+1\n",
    "    else:\n",
    "        odd=odd+1\n",
    "    num=num//10\n",
    "print(\"even count =\",even)\n",
    "print(\"odd count =\",odd)\n"
   ]
  },
  {
   "cell_type": "code",
   "execution_count": 3,
   "id": "4ab64dc7-0e02-45e1-b7fb-50b38ebdb329",
   "metadata": {},
   "outputs": [
    {
     "name": "stdin",
     "output_type": "stream",
     "text": [
      "Enter the number 738781\n"
     ]
    },
    {
     "name": "stdout",
     "output_type": "stream",
     "text": [
      "even digit sum = 16\n",
      "odd digit sum = 18\n"
     ]
    }
   ],
   "source": [
    "num=int(input(\"Enter the number\"))\n",
    "erem=0\n",
    "orem=0\n",
    "while(num!=0):\n",
    "    rem=num%10\n",
    "    if(rem%2==0):\n",
    "        erem=erem+rem\n",
    "    else:\n",
    "        orem=orem+rem\n",
    "    num=num//10\n",
    "print(\"even digit sum =\",erem)\n",
    "print(\"odd digit sum =\",orem)\n"
   ]
  },
  {
   "cell_type": "code",
   "execution_count": 7,
   "id": "7b069156-1969-43b5-8086-8ca09aa668e3",
   "metadata": {},
   "outputs": [
    {
     "name": "stdout",
     "output_type": "stream",
     "text": [
      "2\n",
      "3\n",
      "5\n",
      "7\n",
      "11\n",
      "13\n",
      "17\n",
      "19\n",
      "23\n",
      "29\n",
      "31\n",
      "37\n",
      "41\n",
      "43\n",
      "47\n",
      "53\n",
      "59\n",
      "61\n",
      "67\n",
      "71\n",
      "73\n",
      "79\n",
      "83\n",
      "89\n",
      "97\n"
     ]
    }
   ],
   "source": [
    "num = 2\n",
    "while num <= 100:\n",
    "    i = 1  \n",
    "    count = 0  \n",
    "    while i <= num // 2:\n",
    "        if num % i == 0:\n",
    "            count += 1\n",
    "        i += 1\n",
    "    if count == 1:  \n",
    "        print(num)\n",
    "    num += 1\n"
   ]
  },
  {
   "cell_type": "code",
   "execution_count": null,
   "id": "8167971a-0488-4eca-8f2c-9e9ee55ac02b",
   "metadata": {},
   "outputs": [],
   "source": [
    "num = 2\n",
    "while num <= 100:\n",
    "    i = 1  \n",
    "    count = 0  \n",
    "    while i <= num // 2:\n",
    "        if num % i == 0:\n",
    "            count += 1\n",
    "        i += 1\n",
    "    if count == 1:  \n",
    "        print(num)\n",
    "    num += 1\n"
   ]
  },
  {
   "cell_type": "code",
   "execution_count": 13,
   "id": "6bd56ac8-f816-4991-87ec-d9affa23028b",
   "metadata": {},
   "outputs": [
    {
     "name": "stdout",
     "output_type": "stream",
     "text": [
      "4\n",
      "20\n"
     ]
    }
   ],
   "source": [
    "str=\"Hi hello 7656 this !@#$%^& is koushik\"\n",
    "digit=0\n",
    "alpha=0\n",
    "vowl=0\n",
    "for char in str:\n",
    "    if(char.isdigit()):\n",
    "        digit=digit+1\n",
    "    if(char.isalpha()):\n",
    "        alpha=alpha+1\n",
    "    if(i=='a' or 'e' or 'i' or 'o' or 'u' or 'A' or 'E' or 'I' or 'O' or 'U'):\n",
    "        vowl=vowl+1\n",
    "print(digit)\n",
    "print(alpha)\n"
   ]
  },
  {
   "cell_type": "code",
   "execution_count": null,
   "id": "4abfc2db-d78c-40fa-983c-0480c5cb365c",
   "metadata": {},
   "outputs": [],
   "source": []
  },
  {
   "cell_type": "code",
   "execution_count": null,
   "id": "9546ef9f-0c41-40b7-8134-7c4a598c8487",
   "metadata": {},
   "outputs": [],
   "source": []
  }
 ],
 "metadata": {
  "kernelspec": {
   "display_name": "Python 3 (ipykernel)",
   "language": "python",
   "name": "python3"
  },
  "language_info": {
   "codemirror_mode": {
    "name": "ipython",
    "version": 3
   },
   "file_extension": ".py",
   "mimetype": "text/x-python",
   "name": "python",
   "nbconvert_exporter": "python",
   "pygments_lexer": "ipython3",
   "version": "3.13.2"
  }
 },
 "nbformat": 4,
 "nbformat_minor": 5
}
