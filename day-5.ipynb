{
 "cells": [
  {
   "cell_type": "code",
   "execution_count": 1,
   "id": "b8ab52ef-2775-48ec-8710-ae850a393680",
   "metadata": {},
   "outputs": [
    {
     "name": "stdout",
     "output_type": "stream",
     "text": [
      "['False', 'None', 'True', 'and', 'as', 'assert', 'async', 'await', 'break', 'class', 'continue', 'def', 'del', 'elif', 'else', 'except', 'finally', 'for', 'from', 'global', 'if', 'import', 'in', 'is', 'lambda', 'nonlocal', 'not', 'or', 'pass', 'raise', 'return', 'try', 'while', 'with', 'yield']\n"
     ]
    }
   ],
   "source": [
    "import keyword\n",
    "print(keyword.kwlist)\n"
   ]
  },
  {
   "cell_type": "code",
   "execution_count": 2,
   "id": "17ed29da-5086-4352-813e-13409b7e3b26",
   "metadata": {},
   "outputs": [
    {
     "data": {
      "text/plain": [
       "45"
      ]
     },
     "execution_count": 2,
     "metadata": {},
     "output_type": "execute_result"
    }
   ],
   "source": [
    "15*3"
   ]
  },
  {
   "cell_type": "code",
   "execution_count": 3,
   "id": "207ee533-6c9e-4772-b0e7-5f5dad9605b4",
   "metadata": {},
   "outputs": [
    {
     "data": {
      "text/plain": [
       "24"
      ]
     },
     "execution_count": 3,
     "metadata": {},
     "output_type": "execute_result"
    }
   ],
   "source": [
    "7+9+8"
   ]
  },
  {
   "cell_type": "code",
   "execution_count": 4,
   "id": "5ebc80ef-cf3d-4b7d-9a78-40ddc57899af",
   "metadata": {},
   "outputs": [
    {
     "data": {
      "text/plain": [
       "int"
      ]
     },
     "execution_count": 4,
     "metadata": {},
     "output_type": "execute_result"
    }
   ],
   "source": [
    "type(10)"
   ]
  },
  {
   "cell_type": "code",
   "execution_count": 6,
   "id": "ab806635-456d-4596-9f17-93b3f47757ad",
   "metadata": {},
   "outputs": [
    {
     "data": {
      "text/plain": [
       "str"
      ]
     },
     "execution_count": 6,
     "metadata": {},
     "output_type": "execute_result"
    }
   ],
   "source": [
    "type('abc')\n"
   ]
  },
  {
   "cell_type": "code",
   "execution_count": 7,
   "id": "28aae495-86ad-4d39-b00f-a2a5f1698833",
   "metadata": {},
   "outputs": [
    {
     "name": "stdout",
     "output_type": "stream",
     "text": [
      "1()2()3()4\n"
     ]
    }
   ],
   "source": [
    "print(1,2,3,4,sep=\"()\")"
   ]
  },
  {
   "cell_type": "code",
   "execution_count": 9,
   "id": "39fbc7bf-60de-4dbf-8452-b21c3c3ad6cd",
   "metadata": {},
   "outputs": [
    {
     "name": "stdout",
     "output_type": "stream",
     "text": [
      "1#2#3#4&"
     ]
    }
   ],
   "source": [
    "print(1,2,3,4,sep=\"#\",end=\"&\")"
   ]
  },
  {
   "cell_type": "code",
   "execution_count": 10,
   "id": "1a58bb0a-0078-4f16-93a5-041dbe1985f2",
   "metadata": {},
   "outputs": [
    {
     "name": "stdout",
     "output_type": "stream",
     "text": [
      "The Given Employee Number is: 101\n",
      "The Given Employee Name is: koushik\n",
      "The Given Employee Salary is: 54000.45\n"
     ]
    }
   ],
   "source": [
    "num=101\n",
    "name=\"koushik\"\n",
    "salary=54000.45\n",
    "print(\"The Given Employee Number is:\",num)\n",
    "print(\"The Given Employee Name is:\",name)\n",
    "print(\"The Given Employee Salary is:\",salary)\n"
   ]
  },
  {
   "cell_type": "code",
   "execution_count": 14,
   "id": "1872a980-e6ee-43ab-bac0-f4f728a8a83e",
   "metadata": {},
   "outputs": [
    {
     "name": "stdin",
     "output_type": "stream",
     "text": [
      "Enter Employee Number 12344\n",
      "Enter Employee Name koushik\n",
      "Enter Employee Salary 456789.27382\n"
     ]
    },
    {
     "name": "stdout",
     "output_type": "stream",
     "text": [
      "The Given Employee Number is: 12344\n",
      "The Given Employee Name is: koushik\n",
      "The Given Employee Salary is: 456789.27382\n"
     ]
    }
   ],
   "source": [
    "num=int(input(\"Enter Employee Number\"))\n",
    "name=input(\"Enter Employee Name\")\n",
    "salary=float(input(\"Enter Employee Salary\"))\n",
    "print(\"The Given Employee Number is:\",num)\n",
    "print(\"The Given Employee Name is:\",name)\n",
    "print(\"The Given Employee Salary is:\",salary)"
   ]
  },
  {
   "cell_type": "code",
   "execution_count": 16,
   "id": "d784a335-b61a-4f37-8f45-3416bfa177ca",
   "metadata": {},
   "outputs": [
    {
     "name": "stdin",
     "output_type": "stream",
     "text": [
      "Enter Student Number 102\n",
      "Enter Student Name: koushik\n",
      "Enter Maths Marks: 65\n",
      "Enter Science Marks: 67\n",
      "Enter English Marks: 87\n"
     ]
    },
    {
     "name": "stdout",
     "output_type": "stream",
     "text": [
      "Student Name is : koushik\n",
      "Maths marks are: 65\n",
      "Science marks are: 67\n",
      "English marks are: 87\n",
      "Average of Maths,Science,English is: 73.0\n"
     ]
    }
   ],
   "source": [
    "num=int(input(\"Enter Student Number\"))\n",
    "name=input(\"Enter Student Name:\")\n",
    "maths=int(input(\"Enter Maths Marks:\"))\n",
    "science=int(input(\"Enter Science Marks:\"))\n",
    "english=int(input(\"Enter English Marks:\"))\n",
    "avg=(maths+science+english)/3\n",
    "print(\"Student Number:\",num)\n",
    "print(\"Student Name:\",name)\n",
    "print(\"Maths marks:\",maths)\n",
    "print(\"Science marks:\",science)\n",
    "print(\"English marks:\",english)\n",
    "print(\"Average of Maths,Science,English:\",avg)\n",
    "\n",
    "\n"
   ]
  },
  {
   "cell_type": "code",
   "execution_count": 22,
   "id": "40ef0698-7809-4f9b-827a-1b01827fc20f",
   "metadata": {},
   "outputs": [
    {
     "data": {
      "text/plain": [
       "100.0"
      ]
     },
     "execution_count": 22,
     "metadata": {},
     "output_type": "execute_result"
    }
   ],
   "source": [
    "round(99.96,1)"
   ]
  },
  {
   "cell_type": "code",
   "execution_count": 23,
   "id": "0ebfa213-379e-41f0-9001-7c693873b43c",
   "metadata": {},
   "outputs": [
    {
     "name": "stdout",
     "output_type": "stream",
     "text": [
      "B is greater\n"
     ]
    }
   ],
   "source": [
    "a=5\n",
    "b=10\n",
    "if(a>b):\n",
    "    print(\"A is greater\")\n",
    "else:\n",
    "    print(\"B is greater\")"
   ]
  },
  {
   "cell_type": "code",
   "execution_count": 3,
   "id": "74683c17-67d7-4e48-ae65-c4456427de45",
   "metadata": {},
   "outputs": [
    {
     "name": "stdin",
     "output_type": "stream",
     "text": [
      "Enter number 10\n"
     ]
    },
    {
     "name": "stdout",
     "output_type": "stream",
     "text": [
      "2\n",
      "4\n",
      "6\n",
      "8\n",
      "10\n"
     ]
    }
   ],
   "source": [
    "num=int(input('Enter number'))\n",
    "i=1\n",
    "while i<=num:\n",
    "    if(i%2==0):\n",
    "        print (i)\n",
    "        i=i+1\n",
    "    else:\n",
    "        i=i+1"
   ]
  },
  {
   "cell_type": "code",
   "execution_count": 6,
   "id": "dcf4ac17-ee99-4886-964b-960ef9bcb348",
   "metadata": {},
   "outputs": [
    {
     "name": "stdin",
     "output_type": "stream",
     "text": [
      "ENTER Any Number 9\n"
     ]
    },
    {
     "name": "stdout",
     "output_type": "stream",
     "text": [
      "9 * 1 = 9\n",
      "9 * 2 = 18\n",
      "9 * 3 = 27\n",
      "9 * 4 = 36\n",
      "9 * 5 = 45\n",
      "9 * 6 = 54\n",
      "9 * 7 = 63\n",
      "9 * 8 = 72\n",
      "9 * 9 = 81\n",
      "9 * 10 = 90\n"
     ]
    }
   ],
   "source": [
    "num=int(input(\"ENTER Any Number\"))\n",
    "for i in range (1,10+1):\n",
    "    print(f\"{num} * {i} =\",num*i)\n",
    "    "
   ]
  },
  {
   "cell_type": "code",
   "execution_count": 8,
   "id": "ccc22ea1-7ae0-4781-abde-e58067d01ea8",
   "metadata": {},
   "outputs": [
    {
     "name": "stdin",
     "output_type": "stream",
     "text": [
      "Enter the number: 5\n"
     ]
    },
    {
     "name": "stdout",
     "output_type": "stream",
     "text": [
      "* * * * * \n",
      "* * * * * \n",
      "* * * * * \n",
      "* * * * * \n",
      "* * * * * \n"
     ]
    }
   ],
   "source": [
    "n=int(input(\"Enter the number:\"))\n",
    "i=1\n",
    "while i<=n:\n",
    "    j=1\n",
    "    while j<=n:\n",
    "        print(\"*\",end=\" \")\n",
    "        \n",
    "        j=j+1\n",
    "    print()\n",
    "    i=i+1"
   ]
  },
  {
   "cell_type": "code",
   "execution_count": 7,
   "id": "f88784e6-8008-4fd6-a6f5-de12c56a782e",
   "metadata": {},
   "outputs": [
    {
     "name": "stdin",
     "output_type": "stream",
     "text": [
      "Enter the number: 5\n"
     ]
    },
    {
     "name": "stdout",
     "output_type": "stream",
     "text": [
      "* \n",
      "* * \n",
      "* * * \n",
      "* * * * \n",
      "* * * * * \n"
     ]
    }
   ],
   "source": [
    "n=int(input(\"Enter the number:\"))\n",
    "i=1\n",
    "while i<=n:\n",
    "    j=1\n",
    "    while j<=i:\n",
    "        print(\"*\",end=\" \")\n",
    "        j=j+1\n",
    "    print()\n",
    "    i=i+1"
   ]
  },
  {
   "cell_type": "code",
   "execution_count": 10,
   "id": "1386ee00-d37e-476b-8310-3c120381b81a",
   "metadata": {},
   "outputs": [
    {
     "name": "stdin",
     "output_type": "stream",
     "text": [
      "Enter the number: 5\n"
     ]
    },
    {
     "name": "stdout",
     "output_type": "stream",
     "text": [
      "$ * * * * \n",
      "* $ * * * \n",
      "* * $ * * \n",
      "* * * $ * \n",
      "* * * * $ \n"
     ]
    }
   ],
   "source": [
    "n=int(input(\"Enter the number:\"))\n",
    "i=1\n",
    "while i<=n:\n",
    "    j=1\n",
    "    while j<=n:\n",
    "        if(i==j):\n",
    "            print(\"$\",end=\" \")\n",
    "        else:\n",
    "            print(\"*\",end=\" \")\n",
    "        \n",
    "        j=j+1\n",
    "    print()\n",
    "    i=i+1"
   ]
  },
  {
   "cell_type": "code",
   "execution_count": 17,
   "id": "81a70aaa-74dd-416f-9345-f4b1186e6b0f",
   "metadata": {},
   "outputs": [
    {
     "name": "stdin",
     "output_type": "stream",
     "text": [
      "Enter the number: 5\n"
     ]
    },
    {
     "name": "stdout",
     "output_type": "stream",
     "text": [
      "$ * * * $ \n",
      "* $ * $ * \n",
      "* * $ * * \n",
      "* $ * $ * \n",
      "$ * * * $ \n"
     ]
    }
   ],
   "source": [
    "n=int(input(\"Enter the number:\"))\n",
    "for i in range(1,n+1):\n",
    "    for j in range(1,n+1):\n",
    "        if(i==j or j==n-i+1):\n",
    "            print(\"$\",end=\" \")        \n",
    "        else:\n",
    "            print(\"*\",end=\" \")\n",
    "        \n",
    "        j=j+1\n",
    "    print()\n",
    "    i=i+1"
   ]
  },
  {
   "cell_type": "code",
   "execution_count": 18,
   "id": "707321d7-27cf-4e51-a7ea-4c9f120eb3ef",
   "metadata": {},
   "outputs": [
    {
     "data": {
      "text/plain": [
       "[1, 2, 3]"
      ]
     },
     "execution_count": 18,
     "metadata": {},
     "output_type": "execute_result"
    }
   ],
   "source": [
    "my_list=[1,2,3]\n",
    "my_list"
   ]
  },
  {
   "cell_type": "code",
   "execution_count": 28,
   "id": "8b1f1c20-3e8d-433a-bbe8-6406e66c5285",
   "metadata": {},
   "outputs": [
    {
     "data": {
      "text/plain": [
       "30"
      ]
     },
     "execution_count": 28,
     "metadata": {},
     "output_type": "execute_result"
    }
   ],
   "source": [
    "my_list=[10,20,30,40,50,60,70,80,90,100]\n",
    "my_list[2]"
   ]
  },
  {
   "cell_type": "code",
   "execution_count": 20,
   "id": "f9278517-5271-4035-8dc1-fb2b4ce0264b",
   "metadata": {},
   "outputs": [
    {
     "data": {
      "text/plain": [
       "90"
      ]
     },
     "execution_count": 20,
     "metadata": {},
     "output_type": "execute_result"
    }
   ],
   "source": [
    "my_list[-2]"
   ]
  },
  {
   "cell_type": "code",
   "execution_count": 21,
   "id": "b858392d-f893-412f-a4be-b0e4b6eb802a",
   "metadata": {},
   "outputs": [
    {
     "data": {
      "text/plain": [
       "[20, 30, 40, 50, 60, 70]"
      ]
     },
     "execution_count": 21,
     "metadata": {},
     "output_type": "execute_result"
    }
   ],
   "source": [
    "my_list[1:7]"
   ]
  },
  {
   "cell_type": "code",
   "execution_count": 23,
   "id": "8c1a6c00-f195-460d-a3e7-8851acde0292",
   "metadata": {},
   "outputs": [
    {
     "data": {
      "text/plain": [
       "[50, 60, 70, 80, 90, 100]"
      ]
     },
     "execution_count": 23,
     "metadata": {},
     "output_type": "execute_result"
    }
   ],
   "source": [
    "my_list[4:]"
   ]
  },
  {
   "cell_type": "code",
   "execution_count": 29,
   "id": "997a187e-cdaa-4030-9421-051d5c96d4a7",
   "metadata": {},
   "outputs": [
    {
     "data": {
      "text/plain": [
       "[10, 40, 50, 60, 70, 80, 90, 100]"
      ]
     },
     "execution_count": 29,
     "metadata": {},
     "output_type": "execute_result"
    }
   ],
   "source": [
    "del my_list[1:3]\n",
    "my_list"
   ]
  },
  {
   "cell_type": "code",
   "execution_count": 35,
   "id": "c7210f73-2c59-469c-8958-fd00e01741b8",
   "metadata": {},
   "outputs": [
    {
     "name": "stdin",
     "output_type": "stream",
     "text": [
      "Enter no of elements 4\n"
     ]
    },
    {
     "name": "stdout",
     "output_type": "stream",
     "text": [
      "Enter Elements\n"
     ]
    },
    {
     "name": "stdin",
     "output_type": "stream",
     "text": [
      " 3\n",
      " 2\n",
      " 3\n",
      " 4\n"
     ]
    },
    {
     "data": {
      "text/plain": [
       "['3', '2', '3', '4']"
      ]
     },
     "execution_count": 35,
     "metadata": {},
     "output_type": "execute_result"
    }
   ],
   "source": [
    "n=int(input(\"Enter no of elements\"))\n",
    "print(\"Enter Elements\")\n",
    "a=[]\n",
    "for i in range (n):\n",
    "    a.append(input())\n",
    "a\n",
    "    "
   ]
  },
  {
   "cell_type": "code",
   "execution_count": 36,
   "id": "0a311ecf-b501-42c5-a826-1c8e9ef67724",
   "metadata": {},
   "outputs": [
    {
     "data": {
      "text/plain": [
       "[10, 40, 50, 60, 70, 80, 90, 100]"
      ]
     },
     "execution_count": 36,
     "metadata": {},
     "output_type": "execute_result"
    }
   ],
   "source": [
    "my_list"
   ]
  },
  {
   "cell_type": "code",
   "execution_count": 38,
   "id": "2b953147-cc8a-4941-afd3-b4d84a6a2389",
   "metadata": {},
   "outputs": [],
   "source": [
    "my_list.insert(1,20)"
   ]
  },
  {
   "cell_type": "code",
   "execution_count": 39,
   "id": "0a446cc9-2aee-4ea1-8113-291d44fddde2",
   "metadata": {},
   "outputs": [
    {
     "data": {
      "text/plain": [
       "[10, 20, 40, 50, 60, 70, 80, 90, 100]"
      ]
     },
     "execution_count": 39,
     "metadata": {},
     "output_type": "execute_result"
    }
   ],
   "source": [
    "my_list"
   ]
  },
  {
   "cell_type": "code",
   "execution_count": 42,
   "id": "adc297b4-e542-4eeb-a172-2579fd16c854",
   "metadata": {},
   "outputs": [
    {
     "name": "stdin",
     "output_type": "stream",
     "text": [
      "Enter the number to be delete 40\n"
     ]
    },
    {
     "name": "stdout",
     "output_type": "stream",
     "text": [
      "[10, 20, 50, 60, 70, 80, 90, 100]\n"
     ]
    }
   ],
   "source": [
    "x=int(input(\"Enter the number to be delete\"))\n",
    "if x in my_list:\n",
    "    my_list.remove(x)\n",
    "    print(my_list)\n",
    "else:\n",
    "    print(\"Element not found\")"
   ]
  },
  {
   "cell_type": "code",
   "execution_count": 43,
   "id": "ac5f445b-5caa-4b73-b3b8-c263776fd499",
   "metadata": {},
   "outputs": [
    {
     "data": {
      "text/plain": [
       "100"
      ]
     },
     "execution_count": 43,
     "metadata": {},
     "output_type": "execute_result"
    }
   ],
   "source": [
    "my_list.pop()"
   ]
  },
  {
   "cell_type": "code",
   "execution_count": 44,
   "id": "c4d48013-00a2-4053-8e15-b8b05ae68a99",
   "metadata": {},
   "outputs": [
    {
     "data": {
      "text/plain": [
       "70"
      ]
     },
     "execution_count": 44,
     "metadata": {},
     "output_type": "execute_result"
    }
   ],
   "source": [
    "my_list.pop(4)"
   ]
  },
  {
   "cell_type": "code",
   "execution_count": 48,
   "id": "3d01e7e3-b26a-4bff-aadf-2bc501089882",
   "metadata": {},
   "outputs": [
    {
     "data": {
      "text/plain": [
       "[1, 2, 3, 4, 5]"
      ]
     },
     "execution_count": 48,
     "metadata": {},
     "output_type": "execute_result"
    }
   ],
   "source": [
    "a=[1,2,3,4,5]\n",
    "a\n",
    "\n"
   ]
  },
  {
   "cell_type": "code",
   "execution_count": 58,
   "id": "110d235d-8233-456a-80a9-9df2a092a905",
   "metadata": {},
   "outputs": [
    {
     "data": {
      "text/plain": [
       "[]"
      ]
     },
     "execution_count": 58,
     "metadata": {},
     "output_type": "execute_result"
    }
   ],
   "source": [
    "a.clear()\n",
    "a"
   ]
  },
  {
   "cell_type": "code",
   "execution_count": 50,
   "id": "4b65c248-0334-4036-a2ca-2c8c7a86604e",
   "metadata": {},
   "outputs": [
    {
     "data": {
      "text/plain": [
       "[10, 20, 50, 60, 80, 90]"
      ]
     },
     "execution_count": 50,
     "metadata": {},
     "output_type": "execute_result"
    }
   ],
   "source": [
    "my_list"
   ]
  },
  {
   "cell_type": "code",
   "execution_count": 52,
   "id": "481117f0-484c-41d8-b269-b9b3a9928a07",
   "metadata": {},
   "outputs": [
    {
     "data": {
      "text/plain": [
       "3"
      ]
     },
     "execution_count": 52,
     "metadata": {},
     "output_type": "execute_result"
    }
   ],
   "source": [
    "my_list.index(60)"
   ]
  },
  {
   "cell_type": "code",
   "execution_count": 53,
   "id": "b354e986-f0b6-4bf2-913f-62119a73cf08",
   "metadata": {},
   "outputs": [
    {
     "data": {
      "text/plain": [
       "1"
      ]
     },
     "execution_count": 53,
     "metadata": {},
     "output_type": "execute_result"
    }
   ],
   "source": [
    "my_list.count(80)"
   ]
  },
  {
   "cell_type": "code",
   "execution_count": 59,
   "id": "3a787447-5e1d-4f72-b7f1-ca37ca32597b",
   "metadata": {},
   "outputs": [
    {
     "data": {
      "text/plain": [
       "[1, 2, 3, 4, 5, 6, 7, 8]"
      ]
     },
     "execution_count": 59,
     "metadata": {},
     "output_type": "execute_result"
    }
   ],
   "source": [
    "a=[1,2,3,4]\n",
    "b=[5,6,7,8]\n",
    "a.extend(b)\n",
    "a"
   ]
  },
  {
   "cell_type": "code",
   "execution_count": 63,
   "id": "fde162a6-76a4-4056-a1aa-1c4b0212fade",
   "metadata": {},
   "outputs": [
    {
     "data": {
      "text/plain": [
       "[2, 3, 4, 5, 5, 5, 7]"
      ]
     },
     "execution_count": 63,
     "metadata": {},
     "output_type": "execute_result"
    }
   ],
   "source": [
    "a=[7,3,5,5,5,2,4]\n",
    "a.sort()\n",
    "a"
   ]
  },
  {
   "cell_type": "code",
   "execution_count": 69,
   "id": "2744a4eb-bf70-4395-9916-84ee6f5f9c2f",
   "metadata": {},
   "outputs": [
    {
     "data": {
      "text/plain": [
       "2"
      ]
     },
     "execution_count": 69,
     "metadata": {},
     "output_type": "execute_result"
    }
   ],
   "source": [
    "a=[7,3,5,5,5,2,4]\n",
    "a.sort(reverse=True)\n",
    "min(a)"
   ]
  },
  {
   "cell_type": "code",
   "execution_count": 92,
   "id": "9bb5266f-41c1-46f6-af68-5e8a9280e829",
   "metadata": {},
   "outputs": [
    {
     "name": "stdout",
     "output_type": "stream",
     "text": [
      "Enter 5 scores \n"
     ]
    },
    {
     "name": "stdin",
     "output_type": "stream",
     "text": [
      " 2\n",
      " 4\n",
      " 2\n",
      " 1\n",
      " 5\n"
     ]
    },
    {
     "name": "stdout",
     "output_type": "stream",
     "text": [
      "Initial Scores:\n",
      " [2, 4, 2, 1, 5]\n",
      "Scores after inserting bonus:\n",
      " [2, 4, 2, 100, 1, 5]\n",
      "Scores after removing bonus:\n",
      " [2, 4, 2, 1, 5]\n",
      "popped element :\n",
      " 5\n",
      "Extended list:\n",
      " [2, 4, 2, 1, 85, 75, 95, 65, 55]\n",
      "Count of scores > 80:  2\n",
      "Desending order of list: \n",
      " [95, 85, 75, 65, 55, 4, 2, 2, 1]\n",
      "Acsending order of list: \n",
      " [1, 2, 2, 4, 55, 65, 75, 85, 95]\n"
     ]
    }
   ],
   "source": [
    "scores=[]\n",
    "print(\"Enter 5 scores \")\n",
    "for i in range(5):\n",
    "    scores.append(int(input()))\n",
    "print(\"Initial Scores:\\n\",scores)\n",
    "ind=scores.index(min(scores))\n",
    "scores.insert(ind,100)\n",
    "print(\"Scores after inserting bonus:\\n\",scores)\n",
    "scores.remove(max(scores))\n",
    "print(\"Scores after removing bonus:\\n\",scores)\n",
    "popped_score=scores.pop(4)\n",
    "print(\"popped element :\\n\",popped_score)\n",
    "b=[85,75,95,65,55]\n",
    "scores.extend(b)\n",
    "print(\"Extended list:\\n\",scores)\n",
    "count_80=sum(1 for s in scores if s>80)\n",
    "print(\"Count of scores > 80: \",count_80)\n",
    "scores.sort(reverse=True)\n",
    "print(\"Desending order of list: \\n\",scores)\n",
    "scores.sort()\n",
    "print(\"Acsending order of list: \\n\",scores)\n"
   ]
  },
  {
   "cell_type": "code",
   "execution_count": 93,
   "id": "77ce5e8c-ffd5-4915-864a-20be2aa2a334",
   "metadata": {},
   "outputs": [
    {
     "data": {
      "text/plain": [
       "('ravi', 'ramu', 100, 200)"
      ]
     },
     "execution_count": 93,
     "metadata": {},
     "output_type": "execute_result"
    }
   ],
   "source": [
    "tup=(\"ravi\",\"ramu\",100,200)\n",
    "tup"
   ]
  },
  {
   "cell_type": "code",
   "execution_count": 100,
   "id": "3643862e-2538-4f52-95a0-9ae6c1b80dfb",
   "metadata": {},
   "outputs": [
    {
     "data": {
      "text/plain": [
       "('k', 'o', 'u', 's', 'h', 'i', 'k')"
      ]
     },
     "execution_count": 100,
     "metadata": {},
     "output_type": "execute_result"
    }
   ],
   "source": [
    "t=tuple(\"koushik\")\n",
    "t"
   ]
  },
  {
   "cell_type": "code",
   "execution_count": 101,
   "id": "0f21c8db-b4c0-4f83-bae6-25b5a9219f2f",
   "metadata": {},
   "outputs": [
    {
     "data": {
      "text/plain": [
       "('1', '2', '3', '4', '5', '6', '7', '8', '9', '0')"
      ]
     },
     "execution_count": 101,
     "metadata": {},
     "output_type": "execute_result"
    }
   ],
   "source": [
    "t=tuple(\"1234567890\")\n",
    "t"
   ]
  },
  {
   "cell_type": "code",
   "execution_count": 104,
   "id": "4eb5d43a-02f7-4f2c-8058-0d9b31f303d1",
   "metadata": {},
   "outputs": [
    {
     "ename": "TypeError",
     "evalue": "'int' object is not iterable",
     "output_type": "error",
     "traceback": [
      "\u001b[1;31m---------------------------------------------------------------------------\u001b[0m",
      "\u001b[1;31mTypeError\u001b[0m                                 Traceback (most recent call last)",
      "Cell \u001b[1;32mIn[104], line 2\u001b[0m\n\u001b[0;32m      1\u001b[0m a\u001b[38;5;241m=\u001b[39m\u001b[38;5;241m12345\u001b[39m\n\u001b[1;32m----> 2\u001b[0m \u001b[38;5;28;43mmax\u001b[39;49m\u001b[43m(\u001b[49m\u001b[43ma\u001b[49m\u001b[43m)\u001b[49m\n",
      "\u001b[1;31mTypeError\u001b[0m: 'int' object is not iterable"
     ]
    }
   ],
   "source": [
    "a=12345\n",
    "str(a)"
   ]
  },
  {
   "cell_type": "code",
   "execution_count": 103,
   "id": "1e0d7c40-74a5-4961-8336-ba880896f69d",
   "metadata": {},
   "outputs": [
    {
     "data": {
      "text/plain": [
       "'12345'"
      ]
     },
     "execution_count": 103,
     "metadata": {},
     "output_type": "execute_result"
    }
   ],
   "source": [
    "str(12345)"
   ]
  },
  {
   "cell_type": "code",
   "execution_count": 105,
   "id": "25213936-832d-440f-85cd-6cedd64b0a72",
   "metadata": {},
   "outputs": [
    {
     "data": {
      "text/plain": [
       "'7'"
      ]
     },
     "execution_count": 105,
     "metadata": {},
     "output_type": "execute_result"
    }
   ],
   "source": [
    "max(\"1234567\")"
   ]
  },
  {
   "cell_type": "code",
   "execution_count": 106,
   "id": "e21fdb49-52a5-426f-a528-52eaacab21ce",
   "metadata": {},
   "outputs": [
    {
     "data": {
      "text/plain": [
       "'d'"
      ]
     },
     "execution_count": 106,
     "metadata": {},
     "output_type": "execute_result"
    }
   ],
   "source": [
    "min(\"lkjhgfds\")"
   ]
  },
  {
   "cell_type": "code",
   "execution_count": 107,
   "id": "5c5b8e3d-3f29-4958-9513-8b325f1360ab",
   "metadata": {},
   "outputs": [
    {
     "data": {
      "text/plain": [
       "6"
      ]
     },
     "execution_count": 107,
     "metadata": {},
     "output_type": "execute_result"
    }
   ],
   "source": [
    "len(\"dfghjk\")"
   ]
  },
  {
   "cell_type": "code",
   "execution_count": 113,
   "id": "3058bb45-5bd5-4af2-a435-673c715727ce",
   "metadata": {},
   "outputs": [
    {
     "name": "stdin",
     "output_type": "stream",
     "text": [
      "Enter your name :   koushik\n"
     ]
    },
    {
     "name": "stdout",
     "output_type": "stream",
     "text": [
      "h\n",
      "u\n",
      "7\n",
      "['h', 'i', 'k', 'k', 'o', 's', 'u']\n"
     ]
    }
   ],
   "source": [
    "name=input(\"Enter your name :  \")\n",
    "print(min(name))\n",
    "print(max(name))\n",
    "print(len(name))\n",
    "print(sorted(name))"
   ]
  },
  {
   "cell_type": "code",
   "execution_count": 117,
   "id": "ae9e5911-6559-4568-8fcf-8f3dd3c362cc",
   "metadata": {},
   "outputs": [
    {
     "name": "stdin",
     "output_type": "stream",
     "text": [
      "Enter your name :   koushik\n"
     ]
    },
    {
     "name": "stdout",
     "output_type": "stream",
     "text": [
      "7\n"
     ]
    }
   ],
   "source": [
    "name=input(\"Enter your name :  \")\n",
    "count=0\n",
    "for i in name:\n",
    "    count+=1\n",
    "print(count)"
   ]
  },
  {
   "cell_type": "code",
   "execution_count": 119,
   "id": "41523f5c-b07e-4f35-96a1-70dcbbb1370a",
   "metadata": {},
   "outputs": [
    {
     "data": {
      "text/plain": [
       "'koushik'"
      ]
     },
     "execution_count": 119,
     "metadata": {},
     "output_type": "execute_result"
    }
   ],
   "source": [
    "name=\"KOUsHIk\"\n",
    "name.lower()"
   ]
  },
  {
   "cell_type": "code",
   "execution_count": 120,
   "id": "26178285-4992-4cad-a679-1b11e871255a",
   "metadata": {},
   "outputs": [
    {
     "data": {
      "text/plain": [
       "'KOUSHIK'"
      ]
     },
     "execution_count": 120,
     "metadata": {},
     "output_type": "execute_result"
    }
   ],
   "source": [
    "name=\"KOusHIk\"\n",
    "name.upper()"
   ]
  },
  {
   "cell_type": "code",
   "execution_count": 122,
   "id": "85a145ee-cc71-4b12-bdf8-918dff2ed009",
   "metadata": {},
   "outputs": [
    {
     "data": {
      "text/plain": [
       "'koUShiK'"
      ]
     },
     "execution_count": 122,
     "metadata": {},
     "output_type": "execute_result"
    }
   ],
   "source": [
    "name=\"KOusHIk\"\n",
    "name.swapcase()"
   ]
  },
  {
   "cell_type": "code",
   "execution_count": 123,
   "id": "9f1ceefb-0b83-4d46-b4a0-1d36d66aebb8",
   "metadata": {},
   "outputs": [
    {
     "data": {
      "text/plain": [
       "True"
      ]
     },
     "execution_count": 123,
     "metadata": {},
     "output_type": "execute_result"
    }
   ],
   "source": [
    "name.isalpha()"
   ]
  },
  {
   "cell_type": "code",
   "execution_count": 124,
   "id": "d2711f9a-0b46-48e8-a1f8-0578463ea053",
   "metadata": {},
   "outputs": [
    {
     "data": {
      "text/plain": [
       "False"
      ]
     },
     "execution_count": 124,
     "metadata": {},
     "output_type": "execute_result"
    }
   ],
   "source": [
    "name.isnumeric()"
   ]
  },
  {
   "cell_type": "code",
   "execution_count": null,
   "id": "de24cc5c-f167-4332-a5ea-81560c4b2d50",
   "metadata": {},
   "outputs": [],
   "source": []
  }
 ],
 "metadata": {
  "kernelspec": {
   "display_name": "Python 3 (ipykernel)",
   "language": "python",
   "name": "python3"
  },
  "language_info": {
   "codemirror_mode": {
    "name": "ipython",
    "version": 3
   },
   "file_extension": ".py",
   "mimetype": "text/x-python",
   "name": "python",
   "nbconvert_exporter": "python",
   "pygments_lexer": "ipython3",
   "version": "3.13.2"
  }
 },
 "nbformat": 4,
 "nbformat_minor": 5
}
