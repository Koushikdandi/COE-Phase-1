{
 "cells": [
  {
   "cell_type": "code",
   "execution_count": 1,
   "id": "fdce7699-dfc4-4075-b52c-f5115d60d312",
   "metadata": {},
   "outputs": [
    {
     "data": {
      "text/plain": [
       "{1, 2, 3, 4, 5, 6, 7, 8, 9, 10}"
      ]
     },
     "execution_count": 1,
     "metadata": {},
     "output_type": "execute_result"
    }
   ],
   "source": [
    "a={1,2,3,4,5}\n",
    "b={6,7,8,9,10}\n",
    "a|b"
   ]
  },
  {
   "cell_type": "code",
   "execution_count": 2,
   "id": "ab4e4033-a689-4af9-b437-39858228d3e2",
   "metadata": {},
   "outputs": [
    {
     "data": {
      "text/plain": [
       "{1, 2, 3, 4, 5, 6, 7, 8, 9, 10}"
      ]
     },
     "execution_count": 2,
     "metadata": {},
     "output_type": "execute_result"
    }
   ],
   "source": [
    "a={1,2,3,4,5}\n",
    "b={6,7,8,9,10}\n",
    "a.union(b)"
   ]
  },
  {
   "cell_type": "code",
   "execution_count": 8,
   "id": "2a299103-3397-4acc-bafe-296f54995ae8",
   "metadata": {},
   "outputs": [
    {
     "data": {
      "text/plain": [
       "{6}"
      ]
     },
     "execution_count": 8,
     "metadata": {},
     "output_type": "execute_result"
    }
   ],
   "source": [
    "a={1,2,3,4,5,6}\n",
    "b={6,7,8,9,10}\n",
    "a&b"
   ]
  },
  {
   "cell_type": "code",
   "execution_count": 4,
   "id": "21c7a38e-1559-4036-b0fe-e130a3e2a20b",
   "metadata": {},
   "outputs": [
    {
     "data": {
      "text/plain": [
       "{5, 6}"
      ]
     },
     "execution_count": 4,
     "metadata": {},
     "output_type": "execute_result"
    }
   ],
   "source": [
    "a={1,2,3,4,5,6}\n",
    "b={5,6,7,8,9,10}\n",
    "a.intersection(b)"
   ]
  },
  {
   "cell_type": "code",
   "execution_count": 5,
   "id": "46bccb99-fe37-469d-8ea1-3a4fd19fae06",
   "metadata": {},
   "outputs": [
    {
     "data": {
      "text/plain": [
       "{1, 2, 3, 4}"
      ]
     },
     "execution_count": 5,
     "metadata": {},
     "output_type": "execute_result"
    }
   ],
   "source": [
    "a={1,2,3,4,5,6}\n",
    "b={5,6,7,8,9,10}\n",
    "a-b"
   ]
  },
  {
   "cell_type": "code",
   "execution_count": 6,
   "id": "ab3e1982-61b3-4712-837e-d5ca1dae42c2",
   "metadata": {},
   "outputs": [
    {
     "data": {
      "text/plain": [
       "{7, 8, 9, 10}"
      ]
     },
     "execution_count": 6,
     "metadata": {},
     "output_type": "execute_result"
    }
   ],
   "source": [
    "a={1,2,3,4,5,6}\n",
    "b={5,6,7,8,9,10}\n",
    "b-a"
   ]
  },
  {
   "cell_type": "code",
   "execution_count": 9,
   "id": "9b45d241-439c-47be-8e91-d283731c9972",
   "metadata": {},
   "outputs": [
    {
     "data": {
      "text/plain": [
       "{1, 2, 3, 4, 7, 8, 9, 10}"
      ]
     },
     "execution_count": 9,
     "metadata": {},
     "output_type": "execute_result"
    }
   ],
   "source": [
    "a={1,2,3,4,5,6}\n",
    "b={5,6,7,8,9,10}\n",
    "a^b"
   ]
  },
  {
   "cell_type": "code",
   "execution_count": 14,
   "id": "a2b6ab3c-f037-44b5-8e98-94ea71ae2231",
   "metadata": {},
   "outputs": [
    {
     "name": "stdout",
     "output_type": "stream",
     "text": [
      "Students Enrolled in atleast CSM or IT {'Chandhana', 'Rajesh', 'Bharath', 'Charan', 'Koushik', 'Swathi', 'Bhanu'}\n",
      "Students Enrolled in both CSM and IT {'Koushik', 'Rajesh', 'Bharath'}\n",
      "Students Enrolled in only CS  {'Swathi', 'Chandhana'}\n",
      "Students Enrolled who are unique to one program {'Swathi', 'Bhanu', 'Chandhana', 'Charan'}\n"
     ]
    }
   ],
   "source": [
    "csm={\"Koushik\",\"Bharath\",\"Swathi\",\"Chandhana\",\"Rajesh\"}\n",
    "it={\"Charan\",\"Bhanu\",\"Koushik\",\"Bharath\",\"Rajesh\"}\n",
    "print(\"Students Enrolled in atleast CSM or IT\",csm|it)\n",
    "print(\"Students Enrolled in both CSM and IT\",csm&it)\n",
    "print(\"Students Enrolled in only CS \",csm-it)\n",
    "print(\"Students Enrolled who are unique to one program\",csm^it)\n",
    "\n"
   ]
  },
  {
   "cell_type": "code",
   "execution_count": 18,
   "id": "1c6b57e4-0bc0-4810-8cae-87e7f5f24000",
   "metadata": {},
   "outputs": [
    {
     "data": {
      "text/plain": [
       "{1, 2, 3, 4, 5, 6, 7}"
      ]
     },
     "execution_count": 18,
     "metadata": {},
     "output_type": "execute_result"
    }
   ],
   "source": [
    "a={1,2,3,4,5,6}\n",
    "a.add(7)\n",
    "a"
   ]
  },
  {
   "cell_type": "code",
   "execution_count": 20,
   "id": "0667ccd2-3771-473f-b823-71cf4f7104a0",
   "metadata": {},
   "outputs": [
    {
     "data": {
      "text/plain": [
       "set()"
      ]
     },
     "execution_count": 20,
     "metadata": {},
     "output_type": "execute_result"
    }
   ],
   "source": [
    "a={1,2,3,4,5,6}\n",
    "a.clear()\n",
    "a"
   ]
  },
  {
   "cell_type": "code",
   "execution_count": 21,
   "id": "c5f38395-972b-41f7-b76f-a67e1187f273",
   "metadata": {},
   "outputs": [
    {
     "data": {
      "text/plain": [
       "{1, 2, 3, 4, 5, 6}"
      ]
     },
     "execution_count": 21,
     "metadata": {},
     "output_type": "execute_result"
    }
   ],
   "source": [
    "a={1,2,3,4,5,6}\n",
    "b=a #b=a.copy(b)\n",
    "a"
   ]
  },
  {
   "cell_type": "code",
   "execution_count": 24,
   "id": "97cad483-28d1-42fb-8ffd-5ea8d8cf0fdd",
   "metadata": {},
   "outputs": [
    {
     "ename": "TypeError",
     "evalue": "set.pop() takes no arguments (1 given)",
     "output_type": "error",
     "traceback": [
      "\u001b[1;31m---------------------------------------------------------------------------\u001b[0m",
      "\u001b[1;31mTypeError\u001b[0m                                 Traceback (most recent call last)",
      "Cell \u001b[1;32mIn[24], line 2\u001b[0m\n\u001b[0;32m      1\u001b[0m a\u001b[38;5;241m=\u001b[39m{\u001b[38;5;241m1\u001b[39m,\u001b[38;5;241m2\u001b[39m,\u001b[38;5;241m3\u001b[39m,\u001b[38;5;241m4\u001b[39m,\u001b[38;5;241m5\u001b[39m,\u001b[38;5;241m6\u001b[39m}\n\u001b[1;32m----> 2\u001b[0m \u001b[43ma\u001b[49m\u001b[38;5;241;43m.\u001b[39;49m\u001b[43mpop\u001b[49m\u001b[43m(\u001b[49m\u001b[38;5;241;43m3\u001b[39;49m\u001b[43m)\u001b[49m\n",
      "\u001b[1;31mTypeError\u001b[0m: set.pop() takes no arguments (1 given)"
     ]
    }
   ],
   "source": [
    "a={1,2,3,4,5,6}\n",
    "a.pop()"
   ]
  },
  {
   "cell_type": "code",
   "execution_count": 35,
   "id": "3a8e3cf3-ca16-46c7-9fc8-654aea4e090d",
   "metadata": {},
   "outputs": [
    {
     "name": "stdout",
     "output_type": "stream",
     "text": [
      "{'Name': 'Koushik', 'Age': 20, 'Gender': 'Male'}\n",
      "Koushik\n"
     ]
    }
   ],
   "source": [
    "dict={'Name':'Koushik','Age':20,'Gender':'Male'}\n",
    "print(dict)\n",
    "print(dict['Name'])"
   ]
  },
  {
   "cell_type": "code",
   "execution_count": 36,
   "id": "0a0ca497-ddab-4d72-b2e7-4782c0c2e246",
   "metadata": {},
   "outputs": [
    {
     "data": {
      "text/plain": [
       "{'Name': 'Bharath', 'Age': 20, 'Gender': 'Male'}"
      ]
     },
     "execution_count": 36,
     "metadata": {},
     "output_type": "execute_result"
    }
   ],
   "source": [
    "dict={'Name':'Koushik','Age':20,'Gender':'Male'}\n",
    "dict['Name']='Bharath'\n",
    "dict"
   ]
  },
  {
   "cell_type": "code",
   "execution_count": 39,
   "id": "5e011507-7360-4463-a3f1-cfafbc863fbf",
   "metadata": {},
   "outputs": [
    {
     "data": {
      "text/plain": [
       "dict_items([('Name', 'Koushik'), ('Age', 20), ('Gender', 'Male')])"
      ]
     },
     "execution_count": 39,
     "metadata": {},
     "output_type": "execute_result"
    }
   ],
   "source": [
    "dict={'Name':'Koushik','Age':20,'Gender':'Male'}\n",
    "dict.items()\n"
   ]
  },
  {
   "cell_type": "code",
   "execution_count": 41,
   "id": "c3cedafc-66b0-4d01-a107-97412a090278",
   "metadata": {},
   "outputs": [
    {
     "name": "stdout",
     "output_type": "stream",
     "text": [
      "dict_values(['Koushik', 20, 'Male'])\n",
      "dict_keys(['Name', 'Age', 'Gender'])\n"
     ]
    }
   ],
   "source": [
    "dict={'Name':'Koushik','Age':20,'Gender':'Male'}\n",
    "print(dict.values())\n",
    "print(dict.keys())"
   ]
  },
  {
   "cell_type": "code",
   "execution_count": 69,
   "id": "eee7f247-655c-4f9b-8a7f-c9b4bd813497",
   "metadata": {},
   "outputs": [
    {
     "name": "stdout",
     "output_type": "stream",
     "text": [
      "{'Amit': 85, 'Sneha': 92, 'Rahul': 78, 'Diya': 90, 'Mehul': 67}\n",
      "{'Amit': 85, 'Sneha': 92, 'Rahul': 78, 'Diya': 90, 'Mehul': 67, 'Tanvi': 88}\n",
      "{'Amit': 85, 'Sneha': 92, 'Rahul': 78, 'Diya': 90, 'Mehul': 72, 'Tanvi': 88}\n",
      "{'Amit': 85, 'Sneha': 92, 'Diya': 90, 'Mehul': 72, 'Tanvi': 88}\n",
      "Sneha got highest marks with 92\n",
      "The average marks are 85.40.\n"
     ]
    }
   ],
   "source": [
    "stu_marks={\n",
    "    'Amit':85,\n",
    "    'Sneha':92,\n",
    "    'Rahul':78,\n",
    "    'Diya':90,\n",
    "    'Mehul':67,\n",
    "}\n",
    "print(stu_marks)\n",
    "stu_marks['Tanvi']=88\n",
    "print(stu_marks)\n",
    "stu_marks['Mehul']=72\n",
    "print(stu_marks)\n",
    "stu_marks.pop('Rahul')\n",
    "print(stu_marks)\n",
    "topper=max(stu_marks,key=stu_marks.get)\n",
    "marks=stu_marks[topper]\n",
    "print(f\"{topper} got highest marks with {marks}\" )\n",
    "average_marks = sum(stu_marks.values()) / len(stu_marks)\n",
    "print(f\"The average marks are {average_marks:.2f}.\")\n"
   ]
  },
  {
   "cell_type": "code",
   "execution_count": 71,
   "id": "7358e24d-487d-46ac-b205-18a9f72d5076",
   "metadata": {},
   "outputs": [
    {
     "name": "stdin",
     "output_type": "stream",
     "text": [
      "Enter length 12\n",
      "Enter Breadth 67\n"
     ]
    },
    {
     "name": "stdout",
     "output_type": "stream",
     "text": [
      "Area of Rectangle 804\n"
     ]
    }
   ],
   "source": [
    "def area():\n",
    "    l=int(input(\"Enter length\"))\n",
    "    b=int(input(\"Enter Breadth\"))\n",
    "    print(\"Area of Rectangle\",l*b)\n",
    "rectangle=area()\n",
    "    "
   ]
  },
  {
   "cell_type": "code",
   "execution_count": 74,
   "id": "0c1d5349-c0bd-4aee-b013-d8b7de4d1d2f",
   "metadata": {},
   "outputs": [
    {
     "name": "stdin",
     "output_type": "stream",
     "text": [
      "Enter length 89\n",
      "Enter Breadth 88\n"
     ]
    },
    {
     "name": "stdout",
     "output_type": "stream",
     "text": [
      "Area of Rectangle 7832\n"
     ]
    }
   ],
   "source": [
    "def area(x,y):\n",
    "    print(\"Area of Rectangle\",x*y)\n",
    "l=int(input(\"Enter length\"))\n",
    "b=int(input(\"Enter Breadth\"))    \n",
    "rectangle=area(l,b)\n",
    "    "
   ]
  },
  {
   "cell_type": "code",
   "execution_count": 76,
   "id": "c711cd1b-3c6f-4d53-9b99-958c4f605c3a",
   "metadata": {},
   "outputs": [
    {
     "name": "stdin",
     "output_type": "stream",
     "text": [
      "Enter length 89\n",
      "Enter Breadth 88\n"
     ]
    },
    {
     "name": "stdout",
     "output_type": "stream",
     "text": [
      "Area of Rectangle 7832\n"
     ]
    }
   ],
   "source": [
    "def area(x,y):\n",
    "    return x*y\n",
    "l=int(input(\"Enter length\"))\n",
    "b=int(input(\"Enter Breadth\"))    \n",
    "rectangle=area(l,b)\n",
    "print(\"Area of Rectangle\",rectangle)\n",
    "    "
   ]
  },
  {
   "cell_type": "code",
   "execution_count": 75,
   "id": "a3d6bd93-fef1-4f9c-9f4a-e3bd4af710aa",
   "metadata": {},
   "outputs": [
    {
     "name": "stdin",
     "output_type": "stream",
     "text": [
      "Enter Number 5\n"
     ]
    },
    {
     "name": "stdout",
     "output_type": "stream",
     "text": [
      "Factorial of 5 is 120\n"
     ]
    }
   ],
   "source": [
    "def fact(n):\n",
    "    sum=1\n",
    "    for i in range (1,n+1):\n",
    "        sum*=i\n",
    "    print(f\"Factorial of {n} is {sum}\")\n",
    "n=int(input(\"Enter Number\"))\n",
    "fact(n)"
   ]
  },
  {
   "cell_type": "code",
   "execution_count": 77,
   "id": "3b6cb4ea-c556-4802-98d9-2932e074c950",
   "metadata": {},
   "outputs": [
    {
     "name": "stdin",
     "output_type": "stream",
     "text": [
      "Enter Number 5\n"
     ]
    },
    {
     "name": "stdout",
     "output_type": "stream",
     "text": [
      "Factorial of 5 is 120\n"
     ]
    }
   ],
   "source": [
    "def fact(n):\n",
    "    sum=1\n",
    "    for i in range (1,n+1):\n",
    "        sum*=i\n",
    "    return sum\n",
    "n=int(input(\"Enter Number\"))\n",
    "res=fact(n)\n",
    "print(f\"Factorial of {n} is {res}\")\n"
   ]
  },
  {
   "cell_type": "code",
   "execution_count": 79,
   "id": "47eef164-f772-4d6c-ab91-9f990ee138e0",
   "metadata": {},
   "outputs": [
    {
     "name": "stdin",
     "output_type": "stream",
     "text": [
      "Enter Number 5\n"
     ]
    },
    {
     "name": "stdout",
     "output_type": "stream",
     "text": [
      "Factorial of 5 is 120\n"
     ]
    }
   ],
   "source": [
    "def fact():\n",
    "    n=int(input(\"Enter Number\"))\n",
    "    sum=1\n",
    "    for i in range (1,n+1):\n",
    "        sum*=i\n",
    "    return sum\n",
    "res=fact()\n",
    "print(f\"Factorial of {n} is {res}\")\n"
   ]
  },
  {
   "cell_type": "code",
   "execution_count": 89,
   "id": "1fdc33b3-e1fa-4ae5-8542-b716f9c54e88",
   "metadata": {},
   "outputs": [
    {
     "name": "stdin",
     "output_type": "stream",
     "text": [
      "Enter Employee number 78\n",
      "Enter Employee name koushik\n",
      "Enter Employee Salary 90000000000000000\n"
     ]
    },
    {
     "name": "stdout",
     "output_type": "stream",
     "text": [
      "emp number : 78\n",
      "emp name : koushik\n",
      "emp salary : 9e+16\n"
     ]
    }
   ],
   "source": [
    "class emp:\n",
    "    def empData(self):\n",
    "        self.eno=int(input(\"Enter Employee number\"))\n",
    "        self.ename=(input(\"Enter Employee name\"))\n",
    "        self.esal=float(input(\"Enter Employee Salary\"))\n",
    "    def display(self):\n",
    "        print(\"emp number :\",self.eno)\n",
    "        print(\"emp name :\",self.ename)\n",
    "        print(\"emp salary :\",self.esal)\n",
    "e=emp()\n",
    "e.empData()\n",
    "e.display()"
   ]
  },
  {
   "cell_type": "code",
   "execution_count": null,
   "id": "7a5afaf4-ceec-4f8f-9a6a-ac4df2a6b11b",
   "metadata": {},
   "outputs": [],
   "source": []
  }
 ],
 "metadata": {
  "kernelspec": {
   "display_name": "Python 3 (ipykernel)",
   "language": "python",
   "name": "python3"
  },
  "language_info": {
   "codemirror_mode": {
    "name": "ipython",
    "version": 3
   },
   "file_extension": ".py",
   "mimetype": "text/x-python",
   "name": "python",
   "nbconvert_exporter": "python",
   "pygments_lexer": "ipython3",
   "version": "3.13.2"
  }
 },
 "nbformat": 4,
 "nbformat_minor": 5
}
