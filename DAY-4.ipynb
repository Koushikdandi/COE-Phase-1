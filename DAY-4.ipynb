{
 "cells": [
  {
   "cell_type": "code",
   "execution_count": 12,
   "id": "380f261d-335f-4578-a063-5eb5d3215ded",
   "metadata": {},
   "outputs": [
    {
     "name": "stdin",
     "output_type": "stream",
     "text": [
      "Enter your Name koushuik\n",
      "Enter your Mobile Number 8123456789\n",
      "Enter your email id koushikdandi@gmail.com\n",
      "enter your password Koushik@123\n"
     ]
    },
    {
     "name": "stdout",
     "output_type": "stream",
     "text": [
      "Name: koushuik\n",
      "Mobile Number : 8123456789\n",
      "Email-id: koushikdandi@gmail.com\n"
     ]
    },
    {
     "ename": "NameError",
     "evalue": "name 're' is not defined",
     "output_type": "error",
     "traceback": [
      "\u001b[1;31m---------------------------------------------------------------------------\u001b[0m",
      "\u001b[1;31mNameError\u001b[0m                                 Traceback (most recent call last)",
      "Cell \u001b[1;32mIn[12], line 43\u001b[0m\n\u001b[0;32m     41\u001b[0m     \u001b[38;5;28;01melif\u001b[39;00m(i\u001b[38;5;241m.\u001b[39misdigit()):\n\u001b[0;32m     42\u001b[0m         digit\u001b[38;5;241m+\u001b[39m\u001b[38;5;241m=\u001b[39m\u001b[38;5;241m1\u001b[39m\n\u001b[1;32m---> 43\u001b[0m spl\u001b[38;5;241m=\u001b[39m \u001b[43mre\u001b[49m\u001b[38;5;241m.\u001b[39mfindall(\u001b[38;5;124mr\u001b[39m\u001b[38;5;124m\"\u001b[39m\u001b[38;5;124m[, .!?]\u001b[39m\u001b[38;5;124m\"\u001b[39m, password)\n\u001b[0;32m     44\u001b[0m \u001b[38;5;28;01mif\u001b[39;00m(lower\u001b[38;5;241m>\u001b[39m\u001b[38;5;241m=\u001b[39m\u001b[38;5;241m1\u001b[39m):\n\u001b[0;32m     45\u001b[0m     \u001b[38;5;28;01mif\u001b[39;00m(upper\u001b[38;5;241m>\u001b[39m\u001b[38;5;241m=\u001b[39m\u001b[38;5;241m1\u001b[39m):\n",
      "\u001b[1;31mNameError\u001b[0m: name 're' is not defined"
     ]
    }
   ],
   "source": [
    "import re\n",
    "name=input(\"Enter your Name\")\n",
    "mobile=input(\"Enter your Mobile Number\")\n",
    "email=input(\"Enter your email id\")\n",
    "password=input(\"enter your password\")\n",
    "lower=0\n",
    "upper=0\n",
    "digit=0\n",
    "special=0\n",
    "if(name.isalpha()):\n",
    "    if((len(name)>=3) or  (len(name)<=15)):\n",
    "        print(\"Name:\",name)\n",
    "    else:\n",
    "        print(\"Name should contain 3-15 characters only\")\n",
    "else:\n",
    "    print(\"Name should contain only alphabets\")\n",
    "if(mobile.isdigit()):\n",
    "    if(len(mobile)==10):\n",
    "        if(mobile.startswith('9') or mobile.startswith('8') or mobile.startswith('7') or mobile.startswith('9')):\n",
    "            print(\"Mobile Number :\",mobile)\n",
    "        else:\n",
    "            print(\"please enter valid mobile number\")\n",
    "    else:\n",
    "        print(\"Mobile number should contain 10 digits\")\n",
    "else:\n",
    "    print(\"Mobile number contains only numbers\")\n",
    "if (email[0].isalnum):\n",
    "    if(5<=(len(email))<=25):\n",
    "        if(email.endswith('.com') or email.endswith('.in')):\n",
    "            print(\"Email-id:\",email)\n",
    "        else:\n",
    "            print(\"please enter valid email-id\")\n",
    "    else:\n",
    "        print(\"Email should contain 5-20 characters only\")\n",
    "else:\n",
    "    print(\"email id should sharts with digits or alphabet only\")\n",
    "for i in password:\n",
    "    if(i.islower()):\n",
    "        lower+=1\n",
    "    elif(i.isupper()):\n",
    "        upper+=1\n",
    "    elif(i.isdigit()):\n",
    "        digit+=1\n",
    "spl= re.findall(r\"[, #$*@.!?]\", password)\n",
    "if(lower>=1):\n",
    "    if(upper>=1):\n",
    "        if(digit>=1):\n",
    "            if(len(spl)>=1):\n",
    "                print(\"Password:\",password)\n",
    "            else:\n",
    "                print(\"password should contain atleast 1 special character\")\n",
    "        else:\n",
    "            print(\"password should contain atleast 1 digit \")\n",
    "    else:\n",
    "        print(\"password should contain atleast 1 uppercase\")\n",
    "else:\n",
    "    print(\"password should contain atleast 1 lowercase\")\n",
    "    "
   ]
  },
  {
   "cell_type": "code",
   "execution_count": 11,
   "id": "8c82c3d8-346c-4953-b49c-ac2188b9b7ef",
   "metadata": {},
   "outputs": [
    {
     "name": "stdin",
     "output_type": "stream",
     "text": [
      "enter your password kouskik\n"
     ]
    },
    {
     "name": "stdout",
     "output_type": "stream",
     "text": [
      "password should contain atleast 1 uppercase\n"
     ]
    }
   ],
   "source": [
    "import re\n",
    "password=input(\"enter your password\")\n",
    "lower=0\n",
    "upper=0\n",
    "digit=0\n",
    "for i in password:\n",
    "    if(i.islower()):\n",
    "        lower+=1\n",
    "    elif(i.isupper()):\n",
    "        upper+=1\n",
    "    elif(i.isdigit()):\n",
    "        digit+=1\n",
    "spl= re.findall(r\"[, #$*@.!?]\", password)\n",
    "if(lower>=1):\n",
    "    if(upper>=1):\n",
    "        if(digit>=1):\n",
    "            if(len(spl)>=1):\n",
    "                print(\"Password:\",password)\n",
    "            else:\n",
    "                print(\"password should contain atleast 1 special character\")\n",
    "        else:\n",
    "            print(\"password should contain atleast 1 digit \")\n",
    "    else:\n",
    "        print(\"password should contain atleast 1 uppercase\")\n",
    "else:\n",
    "    print(\"password should contain atleast 1 lowercase\")"
   ]
  },
  {
   "cell_type": "code",
   "execution_count": null,
   "id": "1828ef92-9f0d-4794-91fb-c8132847ed38",
   "metadata": {},
   "outputs": [],
   "source": [
    "Objective:\n",
    "Simulate basic ATM operations with validation and transaction rules.\n",
    "1. User must enter a valid 4-digit PIN to access ATM features.\n",
    " Features & Rules:\n",
    "PIN Validation\n",
    "I. User must enter the correct 4-digit PIN to proceed.\n",
    "I. Deposit\n",
    "1. Amount must be in multiples of ₹100.\n",
    "2. Maximum per transaction: ₹20,000.\n",
    "II. Withdraw\n",
    "1. Amount must be in multiples of ₹100.\n",
    "2. Must not exceed account balance.\n",
    "3.Maximum per transaction: ₹20,000.\n",
    "\n",
    "III. Balance Enquiry\n",
    "Display current balance to the user.\n",
    "\n",
    "Assignment Note:\n",
    "Implement each operation as a function, handle invalid inputs, and display clear messages. Initial balance can be assumed (e.g., ₹10,000)."
   ]
  },
  {
   "cell_type": "code",
   "execution_count": 13,
   "id": "a413a448-e018-4008-be84-e5a15ef75295",
   "metadata": {},
   "outputs": [
    {
     "name": "stdin",
     "output_type": "stream",
     "text": [
      "Enter pin :  1234\n"
     ]
    },
    {
     "name": "stdout",
     "output_type": "stream",
     "text": [
      "Valid PIN \n",
      "Choose The Options\n"
     ]
    },
    {
     "name": "stdin",
     "output_type": "stream",
     "text": [
      "1.Deposit\n",
      " 2.Withdraw\n",
      " 3.Balance Enquiry 3\n"
     ]
    },
    {
     "name": "stdout",
     "output_type": "stream",
     "text": [
      "Your Account Balance is : 10000\n"
     ]
    }
   ],
   "source": [
    "vpin=1234\n",
    "pin=int(input(\"Enter pin : \"))\n",
    "acbal=10000\n",
    "def deposit():\n",
    "    amt=int(input(\"Enter Amount to be Deposit\"))\n",
    "    if(amt%100==0):\n",
    "        if(amt<=20000):\n",
    "            bal=acbal\n",
    "            bal=bal+amt\n",
    "            print(\"Deposit Successfull \\n Your Account Balance is: \",bal)\n",
    "        else:\n",
    "            print(\"Amount Transaction Should be not more than 20000\")\n",
    "    else:\n",
    "        (\"Please Deposit Amount that is multiple of 100\")\n",
    "def withdraw():\n",
    "    amt=int(input(\"Enter Amount to Withdraw\"))\n",
    "    if(amt%100==0):\n",
    "        if(amt<=acbal):\n",
    "            bal=acbal\n",
    "            bal=bal-amt\n",
    "            print(\"Withdraw Successfull \\n Your Account Balance is: \",bal)\n",
    "        else:\n",
    "            print(\"Amount Transaction Should be not more than 20000\")\n",
    "    else:\n",
    "        (\"Please Deposit Amount that is multiple of 100\")\n",
    "\n",
    "def balance():\n",
    "    print(\"Your Account Balance is :\",acbal)\n",
    "            \n",
    "\n",
    "def validate():\n",
    "    if(pin==vpin):\n",
    "        print(\"Valid PIN \\nChoose The Options\")\n",
    "        opt=int(input(\"1.Deposit\\n 2.Withdraw\\n 3.Balance Enquiry\"))\n",
    "    else:\n",
    "        print(\"Please Enter valid pin\")\n",
    "    if(opt==1):\n",
    "        deposit()\n",
    "    if(opt==2):\n",
    "        withdraw()\n",
    "    else:\n",
    "        balance()\n",
    "validate()\n",
    "\n",
    "        "
   ]
  },
  {
   "cell_type": "code",
   "execution_count": null,
   "id": "3b118f6f-9a01-486d-b252-955bc75185b6",
   "metadata": {},
   "outputs": [],
   "source": []
  }
 ],
 "metadata": {
  "kernelspec": {
   "display_name": "Python 3 (ipykernel)",
   "language": "python",
   "name": "python3"
  },
  "language_info": {
   "codemirror_mode": {
    "name": "ipython",
    "version": 3
   },
   "file_extension": ".py",
   "mimetype": "text/x-python",
   "name": "python",
   "nbconvert_exporter": "python",
   "pygments_lexer": "ipython3",
   "version": "3.13.2"
  }
 },
 "nbformat": 4,
 "nbformat_minor": 5
}
