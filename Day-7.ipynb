{
 "cells": [
  {
   "cell_type": "code",
   "execution_count": 1,
   "id": "c03ebf77-5ffb-4b56-8776-8cb3061d2bdd",
   "metadata": {},
   "outputs": [
    {
     "name": "stdout",
     "output_type": "stream",
     "text": [
      "Requirement already satisfied: numpy in c:\\users\\sunee\\appdata\\local\\programs\\python\\python313\\lib\\site-packages (2.2.2)\n",
      "Note: you may need to restart the kernel to use updated packages.\n"
     ]
    },
    {
     "name": "stderr",
     "output_type": "stream",
     "text": [
      "\n",
      "[notice] A new release of pip is available: 25.0.1 -> 25.1.1\n",
      "[notice] To update, run: python.exe -m pip install --upgrade pip\n"
     ]
    }
   ],
   "source": [
    "pip install numpy"
   ]
  },
  {
   "cell_type": "code",
   "execution_count": 3,
   "id": "f68d6107-a686-47e2-a576-5930052f2863",
   "metadata": {},
   "outputs": [
    {
     "name": "stdout",
     "output_type": "stream",
     "text": [
      "Requirement already satisfied: pip in c:\\users\\sunee\\appdata\\local\\programs\\python\\python313\\lib\\site-packages (25.0.1)Note: you may need to restart the kernel to use updated packages.\n",
      "\n",
      "Collecting pip\n",
      "  Downloading pip-25.1.1-py3-none-any.whl.metadata (3.6 kB)\n",
      "Downloading pip-25.1.1-py3-none-any.whl (1.8 MB)\n",
      "   ---------------------------------------- 0.0/1.8 MB ? eta -:--:--\n",
      "   ----------------- ---------------------- 0.8/1.8 MB 7.8 MB/s eta 0:00:01\n",
      "   ---------------------- ----------------- 1.0/1.8 MB 3.7 MB/s eta 0:00:01\n",
      "   ---------------------------------------- 1.8/1.8 MB 2.9 MB/s eta 0:00:00\n",
      "Installing collected packages: pip\n",
      "  Attempting uninstall: pip\n",
      "    Found existing installation: pip 25.0.1\n",
      "    Uninstalling pip-25.0.1:\n",
      "      Successfully uninstalled pip-25.0.1\n",
      "Successfully installed pip-25.1.1\n"
     ]
    }
   ],
   "source": [
    "pip install --upgrade pip"
   ]
  },
  {
   "cell_type": "code",
   "execution_count": 2,
   "id": "664750a3-ae62-41fb-abb8-63a9efedbd4c",
   "metadata": {},
   "outputs": [],
   "source": [
    "import numpy as np"
   ]
  },
  {
   "cell_type": "code",
   "execution_count": 11,
   "id": "c9146f83-bf90-4e0e-92ce-4287cf89cf5d",
   "metadata": {},
   "outputs": [
    {
     "name": "stdout",
     "output_type": "stream",
     "text": [
      "[1 2 3 4 5]\n"
     ]
    }
   ],
   "source": [
    "arr1=np.array([1,2,3,4,5])\n",
    "print(arr1)"
   ]
  },
  {
   "cell_type": "code",
   "execution_count": 10,
   "id": "09dd2dc2-6241-40d1-be0b-2354efa2fbbe",
   "metadata": {},
   "outputs": [
    {
     "name": "stdout",
     "output_type": "stream",
     "text": [
      "[[1 2 3]\n",
      " [4 5 6]\n",
      " [7 8 9]]\n"
     ]
    }
   ],
   "source": [
    "arr2=np.array([[1,2,3],[4,5,6],[7,8,9]])\n",
    "print(arr2)"
   ]
  },
  {
   "cell_type": "code",
   "execution_count": 15,
   "id": "0104bb06-ab7c-4f0f-866b-59af6da0c4db",
   "metadata": {},
   "outputs": [
    {
     "name": "stdout",
     "output_type": "stream",
     "text": [
      "[[0. 0. 0. 0.]\n",
      " [0. 0. 0. 0.]\n",
      " [0. 0. 0. 0.]]\n"
     ]
    }
   ],
   "source": [
    "#arrays of zeros\n",
    "zeros=np.zeros((3,4))\n",
    "print(zeros)"
   ]
  },
  {
   "cell_type": "code",
   "execution_count": 23,
   "id": "bbf84181-f1ee-4b04-86b7-2e7cb79d3513",
   "metadata": {},
   "outputs": [
    {
     "name": "stdout",
     "output_type": "stream",
     "text": [
      "[[1. 1. 1. 1.]\n",
      " [1. 1. 1. 1.]\n",
      " [1. 1. 1. 1.]\n",
      " [1. 1. 1. 1.]]\n"
     ]
    }
   ],
   "source": [
    "#array of ones\n",
    "ones=np.ones((4,4))\n",
    "print(ones)"
   ]
  },
  {
   "cell_type": "code",
   "execution_count": 30,
   "id": "fe82e61c-ad02-4893-89e1-34ccff4d32b2",
   "metadata": {},
   "outputs": [
    {
     "name": "stdout",
     "output_type": "stream",
     "text": [
      "[[0.95325386 0.80688248 0.61874816 0.33013146]\n",
      " [0.33427675 0.02635143 0.09433102 0.32543782]\n",
      " [0.23796444 0.28318685 0.34305289 0.92100892]\n",
      " [0.79855678 0.50244397 0.56916971 0.38891885]]\n"
     ]
    }
   ],
   "source": [
    "#array of randoms\n",
    "ones=np.random.random((4,4))\n",
    "print(ones)\n"
   ]
  },
  {
   "cell_type": "code",
   "execution_count": 25,
   "id": "3b93e033-45ac-4df6-8add-346b44fd18c7",
   "metadata": {},
   "outputs": [
    {
     "name": "stdout",
     "output_type": "stream",
     "text": [
      "[[1. 0. 0. 0.]\n",
      " [0. 1. 0. 0.]\n",
      " [0. 0. 1. 0.]\n",
      " [0. 0. 0. 1.]]\n"
     ]
    }
   ],
   "source": [
    "#identity matrix\n",
    "identity=np.eye(4)\n",
    "print(identity"
   ]
  },
  {
   "cell_type": "code",
   "execution_count": 26,
   "id": "09003204-7bf8-449f-8563-43c48cac3922",
   "metadata": {},
   "outputs": [
    {
     "name": "stdout",
     "output_type": "stream",
     "text": [
      "[0 2 4 6 8]\n"
     ]
    }
   ],
   "source": [
    "#Array with arange of values\n",
    "range_arr=np.arange(0,10,2) #start,stpe,step\n",
    "print(range_arr)"
   ]
  },
  {
   "cell_type": "code",
   "execution_count": 32,
   "id": "04c81642-4df2-4c89-bef4-f0a4feafe23b",
   "metadata": {},
   "outputs": [
    {
     "name": "stdout",
     "output_type": "stream",
     "text": [
      "Shape: (2, 3)\n",
      "Size: 6\n",
      "Data type : int64\n",
      "Number of dimensions: 2\n"
     ]
    }
   ],
   "source": [
    "arr2=np.array([[1,2,3],[4,5,6]])\n",
    "print(\"Shape:\",arr2.shape)\n",
    "print(\"Size:\",arr2.size)\n",
    "print(\"Data type :\",arr2.dtype)\n",
    "print(\"Number of dimensions:\",arr2.ndim)\n",
    "\n"
   ]
  },
  {
   "cell_type": "code",
   "execution_count": 34,
   "id": "1099e49d-5b45-47b8-b265-c58858949628",
   "metadata": {},
   "outputs": [
    {
     "name": "stdout",
     "output_type": "stream",
     "text": [
      "[]\n"
     ]
    }
   ],
   "source": []
  },
  {
   "cell_type": "code",
   "execution_count": 41,
   "id": "a13c5c9d-fe09-4cdb-912f-ea2ed63f9271",
   "metadata": {},
   "outputs": [
    {
     "name": "stdout",
     "output_type": "stream",
     "text": [
      "[60, 80, 100, 120]\n"
     ]
    }
   ],
   "source": [
    "list1=[10,20,30,40]\n",
    "list2=[50,60,70,80]\n",
    "c=[]\n",
    "for i in range(len(list1)):\n",
    "    c.append(list1[i]+list2[i])\n",
    "print(c)\n",
    "\n",
    "        "
   ]
  },
  {
   "cell_type": "code",
   "execution_count": 43,
   "id": "6726bd57-388b-4166-a7e6-f7c30487c8c4",
   "metadata": {},
   "outputs": [
    {
     "name": "stdout",
     "output_type": "stream",
     "text": [
      "[ 60  80 100 120]\n",
      "[ 500 1200 2100 3200]\n",
      "[20 40 60 80]\n"
     ]
    }
   ],
   "source": [
    "a=np.array([10,20,30,40])\n",
    "b=np.array([50,60,70,80])\n",
    "print(a+b)\n",
    "print(a*b)\n",
    "print(a*2)"
   ]
  },
  {
   "cell_type": "code",
   "execution_count": 49,
   "id": "9c059321-d088-4956-97cf-26cbab362c24",
   "metadata": {},
   "outputs": [
    {
     "name": "stdout",
     "output_type": "stream",
     "text": [
      "[[ 21  44  37]\n",
      " [ 57 113  94]\n",
      " [ 55 120  95]]\n"
     ]
    }
   ],
   "source": [
    "a=np.array([[1,2,3],[4,5,6],[3,6,7]])\n",
    "b=np.array([[7,8,9],[1,9,2],[4,6,8]])\n",
    "\n",
    "\n",
    "res=np.dot(a,b)\n",
    "print(res)\n",
    "\n"
   ]
  },
  {
   "cell_type": "code",
   "execution_count": 50,
   "id": "6c87d3e2-fa74-47f3-8b8e-513092e52ba2",
   "metadata": {},
   "outputs": [
    {
     "name": "stdout",
     "output_type": "stream",
     "text": [
      "[3 4 5]\n"
     ]
    }
   ],
   "source": [
    "#broadcasting\n",
    "a=np.array([1,2,3])\n",
    "b=2\n",
    "print(a+b)"
   ]
  },
  {
   "cell_type": "code",
   "execution_count": 52,
   "id": "bab2808a-5829-4551-9c9b-471aa3e066b4",
   "metadata": {},
   "outputs": [
    {
     "name": "stdout",
     "output_type": "stream",
     "text": [
      "[ 2.71828183  7.3890561  20.08553692]\n",
      "[1.         1.41421356 1.73205081]\n",
      "[0.         0.69314718 1.09861229]\n"
     ]
    }
   ],
   "source": [
    "#universal functions\n",
    "a=np.array([1,2,3])\n",
    "print(np.exp(a))\n",
    "print(np.sqrt(a))\n",
    "print(np.log(a))"
   ]
  },
  {
   "cell_type": "code",
   "execution_count": 55,
   "id": "d70af876-1afe-401d-bf3f-c2290052fc71",
   "metadata": {},
   "outputs": [
    {
     "name": "stdout",
     "output_type": "stream",
     "text": [
      "[1 2 3]\n",
      "Sum: 6\n",
      "Mean: 2.0\n",
      "Standard Deviation 0.816496580927726\n",
      "Max 3\n",
      "Min 1\n"
     ]
    }
   ],
   "source": [
    "a=np.array([1,2,3])\n",
    "print(a)\n",
    "print(\"Sum:\",np.sum(a))\n",
    "print(\"Mean:\",np.mean(a))\n",
    "print(\"Standard Deviation\",np.std(a))\n",
    "print(\"Max\",np.max(a))\n",
    "print(\"Min\",np.min(a))"
   ]
  },
  {
   "cell_type": "code",
   "execution_count": 56,
   "id": "ffdd7666-b966-482e-b553-9095561f77ca",
   "metadata": {},
   "outputs": [
    {
     "name": "stdout",
     "output_type": "stream",
     "text": [
      "[[1 2 3]\n",
      " [4 5 6]]\n"
     ]
    }
   ],
   "source": [
    "a=np.array([1,2,3,4,5,6])\n",
    "print(a.reshape(2,3))\n"
   ]
  },
  {
   "cell_type": "code",
   "execution_count": 3,
   "id": "3958f653-bfc0-4658-88fa-e319058ba194",
   "metadata": {},
   "outputs": [
    {
     "name": "stdout",
     "output_type": "stream",
     "text": [
      "[[1 2]\n",
      " [4 5]]\n",
      "[1 2 4 5]\n"
     ]
    }
   ],
   "source": [
    "#stacking\n",
    "a=np.array([1,2])\n",
    "b=np.array([4,5])\n",
    "print(np.vstack((a,b)))\n",
    "print(np.hstack((a,b)))"
   ]
  },
  {
   "cell_type": "code",
   "execution_count": 4,
   "id": "a33ea3d9-89ce-4a9d-8c5e-8256aacfa134",
   "metadata": {},
   "outputs": [
    {
     "name": "stdout",
     "output_type": "stream",
     "text": [
      "[array([1, 2]), array([3, 4]), array([5, 6])]\n"
     ]
    }
   ],
   "source": [
    "arr=np.array([1,2,3,4,5,6])\n",
    "print(np.array_split(arr,3))"
   ]
  },
  {
   "cell_type": "code",
   "execution_count": 5,
   "id": "b1c1357c-f40c-47b3-8359-709ec53bb3a8",
   "metadata": {},
   "outputs": [
    {
     "name": "stdout",
     "output_type": "stream",
     "text": [
      "[10  2  3]\n",
      "[10  2  3]\n"
     ]
    }
   ],
   "source": [
    "#view shares memory\n",
    "arr=np.array([1,2,3])\n",
    "view=arr.view()\n",
    "view[0]=10\n",
    "print(arr)\n",
    "#Copy does not share memory\n",
    "copy=arr.copy()\n",
    "copy[0]=10\n",
    "print(arr)"
   ]
  },
  {
   "cell_type": "code",
   "execution_count": 12,
   "id": "8f48d5b4-e7a3-4212-ab4f-1487f8a7a356",
   "metadata": {},
   "outputs": [
    {
     "name": "stdout",
     "output_type": "stream",
     "text": [
      "[10 20 30 40 50]\n",
      "Shape: (5,)\n",
      "Size: 5\n",
      "Data type : int64\n",
      "Number of dimensions: 1\n",
      "[[0.49305287 0.59553372 0.58399102]\n",
      " [0.49283937 0.17086651 0.70664143]\n",
      " [0.41977627 0.69971982 0.65604144]]\n",
      "Shape: (3, 3)\n",
      "Size: 9\n",
      "Data type : float64\n",
      "Number of dimensions: 2\n",
      "adding 5 to each element of array [10 20 30 40 50]:\n",
      " [15 25 35 45 55]\n"
     ]
    }
   ],
   "source": [
    "#task\n",
    "a=np.array([10,20,30,40,50])\n",
    "print(a)\n",
    "print(\"Shape:\",a.shape)\n",
    "print(\"Size:\",a.size)\n",
    "print(\"Data type :\",a.dtype)\n",
    "print(\"Number of dimensions:\",a.ndim)\n",
    "rand=np.random.random((3,3))\n",
    "print(rand)\n",
    "print(\"Shape:\",rand.shape)\n",
    "print(\"Size:\",rand.size)\n",
    "print(\"Data type :\",rand.dtype)\n",
    "print(\"Number of dimensions:\",rand.ndim)\n",
    "b=5\n",
    "print(f\"adding 5 to each element of array {a}:\\n\",a+b)\n"
   ]
  },
  {
   "cell_type": "code",
   "execution_count": 14,
   "id": "fc387396-c9a6-4a66-8593-706407a9885b",
   "metadata": {},
   "outputs": [
    {
     "name": "stdout",
     "output_type": "stream",
     "text": [
      "[[1 2 3]\n",
      " [4 5 6]\n",
      " [3 6 7]]\n",
      "[[7 8 9]\n",
      " [1 9 2]\n",
      " [4 6 8]]\n",
      "[[ 7 16 27]\n",
      " [ 4 45 12]\n",
      " [12 36 56]]\n"
     ]
    }
   ],
   "source": [
    "a=np.array([[1,2,3],[4,5,6],[3,6,7]])\n",
    "b=np.array([[7,8,9],[1,9,2],[4,6,8]])\n",
    "print(a)\n",
    "print(b)\n",
    "print(a*b)"
   ]
  },
  {
   "cell_type": "code",
   "execution_count": 20,
   "id": "37122504-e727-4784-abbf-610c89f207be",
   "metadata": {},
   "outputs": [
    {
     "name": "stdout",
     "output_type": "stream",
     "text": [
      "First Row:\n",
      " [1 2 3 4 5]\n",
      "Last Column:\n",
      "[ 5 10 15 20 25]\n"
     ]
    }
   ],
   "source": [
    "a=np.array([[1,2,3,4,5],[6,7,8,9,10],[11,12,13,14,15],[16,17,18,19,20],[21,22,23,24,25]])\n",
    "print(\"First Row:\\n\",a[0])\n",
    "lst_col=a[:,-1]\n",
    "print(\"Last Column:\")\n",
    "print(lst_col)"
   ]
  },
  {
   "cell_type": "code",
   "execution_count": 21,
   "id": "342eaefb-cb05-4464-a543-829f2c03b611",
   "metadata": {},
   "outputs": [
    {
     "name": "stdout",
     "output_type": "stream",
     "text": [
      "[[ 1  2  3  4  5]\n",
      " [ 6  7  8  9 10]\n",
      " [11 12 13 14 15]\n",
      " [16 17 18 19 20]\n",
      " [21 22 23 24 25]]\n",
      "The first row is  [1 2 3 4 5]\n",
      "The last column is: [ 5 10 15 20 25]\n"
     ]
    }
   ],
   "source": [
    "arr = np.arange(1, 26).reshape(5, 5)\n",
    "print(arr)\n",
    "first_row = arr[0]\n",
    "print(\"The first row is \",first_row)\n",
    "last_col=arr[:,-1]\n",
    "print(\"The last column is:\",last_col)"
   ]
  },
  {
   "cell_type": "code",
   "execution_count": 24,
   "id": "de89536c-ca82-44a2-b922-42af713927f7",
   "metadata": {},
   "outputs": [
    {
     "name": "stdout",
     "output_type": "stream",
     "text": [
      "maximum: 100\n"
     ]
    }
   ],
   "source": [
    "arr=np.array([10,20,30,40,50,60,70,80,90,100])\n",
    "print(\"maximum:\",np.max(arr))"
   ]
  },
  {
   "cell_type": "code",
   "execution_count": null,
   "id": "e58582ae-1ec4-4e93-9311-9091368dc117",
   "metadata": {},
   "outputs": [],
   "source": []
  }
 ],
 "metadata": {
  "kernelspec": {
   "display_name": "Python 3 (ipykernel)",
   "language": "python",
   "name": "python3"
  },
  "language_info": {
   "codemirror_mode": {
    "name": "ipython",
    "version": 3
   },
   "file_extension": ".py",
   "mimetype": "text/x-python",
   "name": "python",
   "nbconvert_exporter": "python",
   "pygments_lexer": "ipython3",
   "version": "3.13.2"
  }
 },
 "nbformat": 4,
 "nbformat_minor": 5
}
